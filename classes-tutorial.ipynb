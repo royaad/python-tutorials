{
 "cells": [
  {
   "cell_type": "markdown",
   "metadata": {},
   "source": [
    "# Classes"
   ]
  },
  {
   "cell_type": "markdown",
   "metadata": {},
   "source": [
    "## `__init__`, attributes, and methods"
   ]
  },
  {
   "cell_type": "markdown",
   "metadata": {},
   "source": [
    "To create a **Class**, we use the keyword `class` "
   ]
  },
  {
   "cell_type": "code",
   "execution_count": 25,
   "metadata": {},
   "outputs": [],
   "source": [
    "class Employee:\n",
    "    def __init__(self, first_name, last_name, salary):\n",
    "        self.first_name = first_name\n",
    "        self.last_name = last_name\n",
    "        self.email = first_name.lower() + '.' + last_name.lower() + '@company.com'\n",
    "        self.salary = salary\n",
    "    def fullname(self):\n",
    "        return '{} {}'.format(self.first_name, self.last_name)"
   ]
  },
  {
   "cell_type": "markdown",
   "metadata": {},
   "source": [
    "A class is a \"blueprint\" for creating an object. The first action for create a class is to call the class constructor by using the special `__init__` method. These special methods are also called **dunders**, which is short for double underscores.\n",
    "\n",
    "In an `__init__` method, the class instance (called `self` by convention) is passed first, then we pass the **attributes** of the class.\n",
    "\n",
    "A class has **attributes** and **methods**. **Attributes** can be seen as the stored variables of a class instance. In the code cell above, `self.first_name`, `self.last_name`, `self.email`, and `self.salary` are attributes of the class `Employee`. Methods are functions specific to that class. For example, in the above code cell, `fullname` is a method of the class `Employee`. It is important to pass the class instance `self` to class methods."
   ]
  },
  {
   "cell_type": "code",
   "execution_count": 26,
   "metadata": {},
   "outputs": [
    {
     "name": "stdout",
     "output_type": "stream",
     "text": [
      "john.doe@company.com\n",
      "jane.dun@company.com\n",
      "John Doe\n",
      "Jane Dun\n",
      "John Doe\n"
     ]
    }
   ],
   "source": [
    "employee_1 = Employee('John', 'Doe', 50_000)\n",
    "employee_2 = Employee('Jane', 'Dun', 60_000)\n",
    "\n",
    "# email attribute\n",
    "print(employee_1.email)\n",
    "print(employee_2.email)\n",
    "# fullname method\n",
    "print(employee_1.fullname())\n",
    "print(employee_2.fullname())\n",
    "# equivalent to calling the method from the class and then passing the instance to it\n",
    "print(Employee.fullname(employee_1))"
   ]
  },
  {
   "cell_type": "markdown",
   "metadata": {},
   "source": [
    "In the code cell above, `employee_1` and `employee_2` are instances of the class Employee. We can access instance attributes and methods by using the \"dot operator\" **(`.`)**. However, notice that accessing an **attribute** does not require **parentheses**, while accessing **methods** requires **parentheses**."
   ]
  },
  {
   "cell_type": "markdown",
   "metadata": {},
   "source": [
    "## Class Variables"
   ]
  },
  {
   "cell_type": "markdown",
   "metadata": {},
   "source": [
    "As we saw above, **attributes** are unique variables for each instance of a class. However, we sometimes need variables to be shared amongst all instances of a class. The variables are called class variables. For example, if we want to apply an annual raise to our employees. We want that raise to be the same for all employees. Or, if we want to count the number of employees in a company."
   ]
  },
  {
   "cell_type": "code",
   "execution_count": 1,
   "metadata": {},
   "outputs": [],
   "source": [
    "class Employee:\n",
    "    \n",
    "    raise_amount = 1.04\n",
    "    nb_of_employees = 0\n",
    "    \n",
    "    def __init__(self, first_name, last_name, salary):\n",
    "        self.first_name = first_name\n",
    "        self.last_name = last_name\n",
    "        self.email = first_name.lower() + '.' + last_name.lower() + '@company.com'\n",
    "        self.salary = salary\n",
    "        Employee.nb_of_employees += 1\n",
    "    def fullname(self):\n",
    "        return '{} {}'.format(self.first_name, self.last_name)\n",
    "    def apply_raise(self):\n",
    "        # update salaray\n",
    "        self.salary = int(self.salary * self.raise_amount)"
   ]
  },
  {
   "cell_type": "markdown",
   "metadata": {},
   "source": [
    "A class variable should be declared before the `__init__` constructor. We also add to the class a new method `apply_raise`, which updates the salary. "
   ]
  },
  {
   "cell_type": "code",
   "execution_count": 28,
   "metadata": {},
   "outputs": [
    {
     "name": "stdout",
     "output_type": "stream",
     "text": [
      "1.04\n",
      "1.04\n",
      "1.04\n"
     ]
    }
   ],
   "source": [
    "employee_1 = Employee('John', 'Doe', 50_000)\n",
    "employee_2 = Employee('Jane', 'Dun', 60_000)\n",
    "\n",
    "print(employee_1.raise_amount)\n",
    "print(employee_2.raise_amount)\n",
    "print(Employee.raise_amount)"
   ]
  },
  {
   "cell_type": "markdown",
   "metadata": {},
   "source": [
    "We can access `raise_amount` from the class `Employee.raise_amount` and from instance `self.raise_amount`. This is because python first checks if the variable is contained withing the instance and if it is not found then searches in the class. if we print `employee_1` instance name space, we see that there is no `raise_amount` attribute."
   ]
  },
  {
   "cell_type": "code",
   "execution_count": 29,
   "metadata": {},
   "outputs": [
    {
     "data": {
      "text/plain": [
       "{'first_name': 'John',\n",
       " 'last_name': 'Doe',\n",
       " 'email': 'john.doe@company.com',\n",
       " 'salary': 50000}"
      ]
     },
     "execution_count": 29,
     "metadata": {},
     "output_type": "execute_result"
    }
   ],
   "source": [
    "employee_1.__dict__"
   ]
  },
  {
   "cell_type": "markdown",
   "metadata": {},
   "source": [
    "However, if we print `Employee` class name space, we see that it contains the `raise_amount` attribute."
   ]
  },
  {
   "cell_type": "code",
   "execution_count": 30,
   "metadata": {},
   "outputs": [
    {
     "data": {
      "text/plain": [
       "mappingproxy({'__module__': '__main__',\n",
       "              'raise_amount': 1.04,\n",
       "              'nb_of_employees': 2,\n",
       "              '__init__': <function __main__.Employee.__init__(self, first_name, last_name, salary)>,\n",
       "              'fullname': <function __main__.Employee.fullname(self)>,\n",
       "              'apply_raise': <function __main__.Employee.apply_raise(self)>,\n",
       "              '__dict__': <attribute '__dict__' of 'Employee' objects>,\n",
       "              '__weakref__': <attribute '__weakref__' of 'Employee' objects>,\n",
       "              '__doc__': None})"
      ]
     },
     "execution_count": 30,
     "metadata": {},
     "output_type": "execute_result"
    }
   ],
   "source": [
    "Employee.__dict__"
   ]
  },
  {
   "cell_type": "markdown",
   "metadata": {},
   "source": [
    "However, we must be careful when handeling changes in the `raise_amount` attribute."
   ]
  },
  {
   "cell_type": "code",
   "execution_count": 31,
   "metadata": {},
   "outputs": [
    {
     "name": "stdout",
     "output_type": "stream",
     "text": [
      "1.06\n",
      "1.06\n",
      "1.06\n"
     ]
    }
   ],
   "source": [
    "Employee.raise_amount = 1.06\n",
    "\n",
    "print(employee_1.raise_amount)\n",
    "print(employee_2.raise_amount)\n",
    "print(Employee.raise_amount)"
   ]
  },
  {
   "cell_type": "code",
   "execution_count": 32,
   "metadata": {},
   "outputs": [
    {
     "name": "stdout",
     "output_type": "stream",
     "text": [
      "1.1\n",
      "1.06\n",
      "1.06\n"
     ]
    }
   ],
   "source": [
    "employee_1.raise_amount = 1.1\n",
    "\n",
    "print(employee_1.raise_amount)\n",
    "print(employee_2.raise_amount)\n",
    "print(Employee.raise_amount)"
   ]
  },
  {
   "cell_type": "markdown",
   "metadata": {},
   "source": [
    "We remark that changing `Employee.raise_amount` changes the `raise_amount` for all instances of the class. While, changing `employee_1.raise_amount` changes the `raise_amount` only for `employee_1`.\n",
    "\n",
    "The reason why that happens is due to the fact that, when we excuted `employee_1.raise_amount = 1.1`, a `raise_amount` instance attribute was created. We can check that by looking at the instance namespace.\n",
    "\n",
    "For `employee_2`, no `raise_amount` exists in the instance's name space. And so, it falls back to the `class` name space."
   ]
  },
  {
   "cell_type": "code",
   "execution_count": 33,
   "metadata": {},
   "outputs": [
    {
     "data": {
      "text/plain": [
       "{'first_name': 'John',\n",
       " 'last_name': 'Doe',\n",
       " 'email': 'john.doe@company.com',\n",
       " 'salary': 50000,\n",
       " 'raise_amount': 1.1}"
      ]
     },
     "execution_count": 33,
     "metadata": {},
     "output_type": "execute_result"
    }
   ],
   "source": [
    "employee_1.__dict__"
   ]
  },
  {
   "cell_type": "markdown",
   "metadata": {},
   "source": [
    "## Inheritance & Subclasses"
   ]
  },
  {
   "cell_type": "markdown",
   "metadata": {},
   "source": [
    "Classes can inherit attributes and methods of other classes. In that case, the original class is called a **parent-class**/**superclass** and the new class in called a **child-class**/**subclass**.\n",
    "\n",
    "For example in the code cell below, a subclass `Developer` is created from the superclass `Employee`."
   ]
  },
  {
   "cell_type": "code",
   "execution_count": 4,
   "metadata": {},
   "outputs": [],
   "source": [
    "class Developer(Employee):\n",
    "    pass"
   ]
  },
  {
   "cell_type": "markdown",
   "metadata": {},
   "source": [
    "`Developer` inherits all the attributes and methods of the `Employee` class, without overriding anything.\n",
    "It is simply equivalent to giving the `Employee` class another name."
   ]
  },
  {
   "cell_type": "code",
   "execution_count": 7,
   "metadata": {},
   "outputs": [
    {
     "name": "stdout",
     "output_type": "stream",
     "text": [
      "John\n",
      "john.doe@company.com\n",
      "John Doe\n"
     ]
    }
   ],
   "source": [
    "dev_1 = Developer('John', 'Doe', 50_000)\n",
    "\n",
    "print(dev_1.first_name)\n",
    "print(dev_1.email)\n",
    "print(dev_1.fullname())"
   ]
  },
  {
   "cell_type": "markdown",
   "metadata": {},
   "source": [
    "We see that `Developer` has the same structure as `Employee`.\n",
    "When python did not find a constructor in `Developer` class, it walked up the chain of inheritance (Method Resolution Order) and ran the constructor found in `Employee`.\n",
    "\n",
    "We can check the MRO by using the `help` function."
   ]
  },
  {
   "cell_type": "code",
   "execution_count": 8,
   "metadata": {},
   "outputs": [
    {
     "name": "stdout",
     "output_type": "stream",
     "text": [
      "Help on class Developer in module __main__:\n",
      "\n",
      "class Developer(Employee)\n",
      " |  Developer(first_name, last_name, salary)\n",
      " |  \n",
      " |  Method resolution order:\n",
      " |      Developer\n",
      " |      Employee\n",
      " |      builtins.object\n",
      " |  \n",
      " |  Methods inherited from Employee:\n",
      " |  \n",
      " |  __init__(self, first_name, last_name, salary)\n",
      " |      Initialize self.  See help(type(self)) for accurate signature.\n",
      " |  \n",
      " |  apply_raise(self)\n",
      " |  \n",
      " |  fullname(self)\n",
      " |  \n",
      " |  ----------------------------------------------------------------------\n",
      " |  Data descriptors inherited from Employee:\n",
      " |  \n",
      " |  __dict__\n",
      " |      dictionary for instance variables (if defined)\n",
      " |  \n",
      " |  __weakref__\n",
      " |      list of weak references to the object (if defined)\n",
      " |  \n",
      " |  ----------------------------------------------------------------------\n",
      " |  Data and other attributes inherited from Employee:\n",
      " |  \n",
      " |  nb_of_employees = 3\n",
      " |  \n",
      " |  raise_amount = 1.04\n",
      "\n",
      "None\n"
     ]
    }
   ],
   "source": [
    "print(help(Developer))"
   ]
  },
  {
   "cell_type": "markdown",
   "metadata": {},
   "source": [
    "Or by using the `mro` method"
   ]
  },
  {
   "cell_type": "code",
   "execution_count": 14,
   "metadata": {},
   "outputs": [
    {
     "data": {
      "text/plain": [
       "[__main__.Developer, __main__.Employee, object]"
      ]
     },
     "execution_count": 14,
     "metadata": {},
     "output_type": "execute_result"
    }
   ],
   "source": [
    "Developer.mro()"
   ]
  },
  {
   "cell_type": "markdown",
   "metadata": {},
   "source": [
    "### MRO"
   ]
  },
  {
   "cell_type": "markdown",
   "metadata": {},
   "source": [
    "To better understand the MRO, let us consider two dummy classes: A and B, where B inherits from A."
   ]
  },
  {
   "cell_type": "markdown",
   "metadata": {},
   "source": [
    "#### Case 1: B has no class variables and attributes"
   ]
  },
  {
   "cell_type": "code",
   "execution_count": 39,
   "metadata": {},
   "outputs": [],
   "source": [
    "class A:\n",
    "    classvarA = \"Class Variable in A\"\n",
    "    def __init__(self):\n",
    "        self.attribute_1 = \"Attribute 1 in A\"\n",
    "        self.attribute_2 = \"Attribute 2 in A\"\n",
    "        \n",
    "class B(A):\n",
    "    pass"
   ]
  },
  {
   "cell_type": "code",
   "execution_count": 40,
   "metadata": {},
   "outputs": [
    {
     "name": "stdout",
     "output_type": "stream",
     "text": [
      "Class Variable in A\n",
      "Attribute 1 in A\n"
     ]
    }
   ],
   "source": [
    "b = B()\n",
    "\n",
    "print(b.classvarA)\n",
    "print(b.attribute_1)"
   ]
  },
  {
   "cell_type": "markdown",
   "metadata": {},
   "source": [
    "In that case, we see that the instance `b` inherits all its attributes from class `A` since there are no class variable or constructors in class `B`. "
   ]
  },
  {
   "cell_type": "markdown",
   "metadata": {},
   "source": [
    "#### Case 2: B contains only a class variable"
   ]
  },
  {
   "cell_type": "code",
   "execution_count": 41,
   "metadata": {},
   "outputs": [],
   "source": [
    "class A:\n",
    "    classvarA = \"Class Variable in A\"\n",
    "    def __init__(self):\n",
    "        self.attribute_1 = \"Attribute 1 in A\"\n",
    "        self.attribute_2 = \"Attribute 2 in A\"\n",
    "        \n",
    "class B(A):\n",
    "    classvarB = \"Class Variable in B\""
   ]
  },
  {
   "cell_type": "code",
   "execution_count": 43,
   "metadata": {},
   "outputs": [
    {
     "name": "stdout",
     "output_type": "stream",
     "text": [
      "Class Variable in A\n",
      "Class Variable in B\n",
      "Attribute 1 in A\n"
     ]
    }
   ],
   "source": [
    "b = B()\n",
    "\n",
    "print(b.classvarA)\n",
    "print(b.classvarB)\n",
    "print(b.attribute_1)"
   ]
  },
  {
   "cell_type": "markdown",
   "metadata": {},
   "source": [
    "The instance `b` inherits all its attributes from class `A` in addition to its own class variables.\n",
    "\n",
    "However, if class `B` has the same name for the class variable then the only the class variable in `B` will be considered."
   ]
  },
  {
   "cell_type": "code",
   "execution_count": 44,
   "metadata": {},
   "outputs": [],
   "source": [
    "class A:\n",
    "    classvar = \"Class Variable in A\"\n",
    "    def __init__(self):\n",
    "        self.attribute_1 = \"Attribute 1 in A\"\n",
    "        self.attribute_2 = \"Attribute 2 in A\"\n",
    "        \n",
    "class B(A):\n",
    "    classvar = \"Class Variable in B\""
   ]
  },
  {
   "cell_type": "code",
   "execution_count": 46,
   "metadata": {},
   "outputs": [
    {
     "name": "stdout",
     "output_type": "stream",
     "text": [
      "Class Variable in A\n",
      "Class Variable in B\n",
      "Attribute 1 in A\n"
     ]
    }
   ],
   "source": [
    "a = A()\n",
    "b = B()\n",
    "\n",
    "print(a.classvar)\n",
    "print(b.classvar)\n",
    "print(b.attribute_1)"
   ]
  },
  {
   "cell_type": "markdown",
   "metadata": {},
   "source": [
    "#### Case 3: B has a constructor"
   ]
  },
  {
   "cell_type": "code",
   "execution_count": 49,
   "metadata": {},
   "outputs": [],
   "source": [
    "class A:\n",
    "    classvarA = \"Class Variable in A\"\n",
    "    def __init__(self):\n",
    "        self.attribute_1 = \"Attribute 1 in A\"\n",
    "        self.attribute_2 = \"Attribute 2 in A\"\n",
    "        \n",
    "class B(A):\n",
    "    classvarB = \"Class Variable in B\"\n",
    "    def __init__(self):\n",
    "        self.attribute_3 = \"Attribute 3 in B\""
   ]
  },
  {
   "cell_type": "code",
   "execution_count": 51,
   "metadata": {},
   "outputs": [
    {
     "name": "stdout",
     "output_type": "stream",
     "text": [
      "Class Variable in A\n",
      "Class Variable in B\n",
      "Attribute 3 in B\n"
     ]
    },
    {
     "ename": "AttributeError",
     "evalue": "'B' object has no attribute 'attribute_1'",
     "output_type": "error",
     "traceback": [
      "\u001b[1;31m---------------------------------------------------------------------------\u001b[0m",
      "\u001b[1;31mAttributeError\u001b[0m                            Traceback (most recent call last)",
      "\u001b[1;32mc:\\Users\\user\\Desktop\\MOOCs\\python-tutorials\\classes-tutorial.ipynb Cell 45\u001b[0m line \u001b[0;36m6\n\u001b[0;32m      <a href='vscode-notebook-cell:/c%3A/Users/user/Desktop/MOOCs/python-tutorials/classes-tutorial.ipynb#Y114sZmlsZQ%3D%3D?line=3'>4</a>\u001b[0m \u001b[39mprint\u001b[39m(b\u001b[39m.\u001b[39mclassvarB)\n\u001b[0;32m      <a href='vscode-notebook-cell:/c%3A/Users/user/Desktop/MOOCs/python-tutorials/classes-tutorial.ipynb#Y114sZmlsZQ%3D%3D?line=4'>5</a>\u001b[0m \u001b[39mprint\u001b[39m(b\u001b[39m.\u001b[39mattribute_3)\n\u001b[1;32m----> <a href='vscode-notebook-cell:/c%3A/Users/user/Desktop/MOOCs/python-tutorials/classes-tutorial.ipynb#Y114sZmlsZQ%3D%3D?line=5'>6</a>\u001b[0m \u001b[39mprint\u001b[39m(b\u001b[39m.\u001b[39;49mattribute_1)\n",
      "\u001b[1;31mAttributeError\u001b[0m: 'B' object has no attribute 'attribute_1'"
     ]
    }
   ],
   "source": [
    "b = B()\n",
    "\n",
    "print(b.classvarA)\n",
    "print(b.classvarB)\n",
    "print(b.attribute_3)\n",
    "print(b.attribute_1)"
   ]
  },
  {
   "cell_type": "markdown",
   "metadata": {},
   "source": [
    "The instance `b` inherits all the class variables from class `A`.\n",
    "However, since class `B` has an `__init__` method, class `B` does not inherit class `A` attributes.\n",
    "\n",
    "For class `B` to inherit class `A`'s attributes, class `A` should be constructed in class `B`'s constructor."
   ]
  },
  {
   "cell_type": "code",
   "execution_count": 52,
   "metadata": {},
   "outputs": [],
   "source": [
    "class A:\n",
    "    classvarA = \"Class Variable in A\"\n",
    "    def __init__(self):\n",
    "        self.attribute_1 = \"Attribute 1 in A\"\n",
    "        self.attribute_2 = \"Attribute 2 in A\"\n",
    "        \n",
    "class B(A):\n",
    "    classvarB = \"Class Variable in B\"\n",
    "    def __init__(self):\n",
    "        super().__init__()\n",
    "        self.attribute_3 = \"Attribute 3 in B\""
   ]
  },
  {
   "cell_type": "code",
   "execution_count": 53,
   "metadata": {},
   "outputs": [
    {
     "name": "stdout",
     "output_type": "stream",
     "text": [
      "Class Variable in A\n",
      "Class Variable in B\n",
      "Attribute 3 in B\n",
      "Attribute 1 in A\n"
     ]
    }
   ],
   "source": [
    "b = B()\n",
    "\n",
    "print(b.classvarA)\n",
    "print(b.classvarB)\n",
    "print(b.attribute_3)\n",
    "print(b.attribute_1)"
   ]
  },
  {
   "cell_type": "markdown",
   "metadata": {},
   "source": [
    "In case we have the same attribute name for both classes, then the priority goes to class `B`. In other words, class `B` overrides the attribute."
   ]
  },
  {
   "cell_type": "code",
   "execution_count": 56,
   "metadata": {},
   "outputs": [],
   "source": [
    "class A:\n",
    "    classvarA = \"Class Variable in A\"\n",
    "    def __init__(self):\n",
    "        self.attribute_1 = \"Attribute 1 in A\"\n",
    "        self.attribute_2 = \"Attribute 2 in A\"\n",
    "        \n",
    "class B(A):\n",
    "    classvarB = \"Class Variable in B\"\n",
    "    def __init__(self):\n",
    "        super().__init__()\n",
    "        self.attribute_1 = \"Attribute 1 in B\""
   ]
  },
  {
   "cell_type": "code",
   "execution_count": 57,
   "metadata": {},
   "outputs": [
    {
     "name": "stdout",
     "output_type": "stream",
     "text": [
      "Class Variable in A\n",
      "Class Variable in B\n",
      "Attribute 2 in A\n",
      "Attribute 1 in B\n"
     ]
    }
   ],
   "source": [
    "b = B()\n",
    "\n",
    "print(b.classvarA)\n",
    "print(b.classvarB)\n",
    "print(b.attribute_2)\n",
    "print(b.attribute_1)"
   ]
  },
  {
   "cell_type": "markdown",
   "metadata": {},
   "source": [
    "The order is:\n",
    "\n",
    "(subclass attribute) > (subclass variable) > (parentclass attribute) > (parentclass variable)"
   ]
  },
  {
   "cell_type": "markdown",
   "metadata": {},
   "source": [
    "### Overiding"
   ]
  },
  {
   "cell_type": "markdown",
   "metadata": {},
   "source": [
    "Class variables can be overridden without a contructor"
   ]
  },
  {
   "cell_type": "code",
   "execution_count": 15,
   "metadata": {},
   "outputs": [],
   "source": [
    "class Developer(Employee):\n",
    "    raise_amount = 1.1"
   ]
  },
  {
   "cell_type": "code",
   "execution_count": 18,
   "metadata": {},
   "outputs": [
    {
     "name": "stdout",
     "output_type": "stream",
     "text": [
      "55000\n",
      "52000\n"
     ]
    }
   ],
   "source": [
    "employee_1 = Developer('John', 'Doe', 50_000)\n",
    "employee_2 = Employee('John', 'Doe', 50_000)\n",
    "\n",
    "employee_1.apply_raise()\n",
    "employee_2.apply_raise()\n",
    "\n",
    "print(employee_1.salary)\n",
    "print(employee_2.salary)"
   ]
  },
  {
   "cell_type": "markdown",
   "metadata": {},
   "source": [
    "However, if we want to overide attributes or create new attributes, we need to do that inside the subclass contructor"
   ]
  },
  {
   "cell_type": "code",
   "execution_count": 23,
   "metadata": {},
   "outputs": [],
   "source": [
    "class Developer(Employee):\n",
    "    raise_amount = 1.1\n",
    "\n",
    "    def __init__(self, first_name, last_name, salary, programming_language):\n",
    "        Employee.__init__(self, first_name, last_name, salary)\n",
    "        self.programming_language = programming_language"
   ]
  },
  {
   "cell_type": "markdown",
   "metadata": {},
   "source": [
    "Now, the `Developer` class has an additional attibute `programming_language`."
   ]
  },
  {
   "cell_type": "code",
   "execution_count": 25,
   "metadata": {},
   "outputs": [
    {
     "name": "stdout",
     "output_type": "stream",
     "text": [
      "Doe\n",
      "python\n"
     ]
    }
   ],
   "source": [
    "dev_1 = Developer('John', 'Doe', 50_000, 'python')\n",
    "\n",
    "print(dev_1.last_name)\n",
    "print(dev_1.programming_language)"
   ]
  },
  {
   "cell_type": "markdown",
   "metadata": {},
   "source": [
    "### `super().__init__()`"
   ]
  },
  {
   "cell_type": "markdown",
   "metadata": {},
   "source": [
    "The super() function returns an object that represents the parent class (i.e. superclass).\n",
    "\n",
    "In the previous code, when the `Developer` class inherted from the `Employee` class, we used the `__init__` method (see code below)."
   ]
  },
  {
   "cell_type": "code",
   "execution_count": 58,
   "metadata": {},
   "outputs": [],
   "source": [
    "class Developer(Employee):\n",
    "    raise_amount = 1.1\n",
    "\n",
    "    def __init__(self, first_name, last_name, salary, programming_language):\n",
    "        Employee.__init__(self, first_name, last_name, salary)\n",
    "        self.programming_language = programming_language"
   ]
  },
  {
   "cell_type": "code",
   "execution_count": 59,
   "metadata": {},
   "outputs": [
    {
     "name": "stdout",
     "output_type": "stream",
     "text": [
      "Doe\n",
      "python\n"
     ]
    }
   ],
   "source": [
    "dev_1 = Developer('John', 'Doe', 50_000, 'python')\n",
    "\n",
    "print(dev_1.last_name)\n",
    "print(dev_1.programming_language)"
   ]
  },
  {
   "cell_type": "markdown",
   "metadata": {},
   "source": [
    "However, an easier and more robust way, is to use the `super().__init__()` method like below"
   ]
  },
  {
   "cell_type": "code",
   "execution_count": 26,
   "metadata": {},
   "outputs": [],
   "source": [
    "class Developer(Employee):\n",
    "    raise_amount = 1.1\n",
    "\n",
    "    def __init__(self, first_name, last_name, salary, programming_language):\n",
    "        super().__init__(first_name, last_name, salary)\n",
    "        self.programming_language = programming_language"
   ]
  },
  {
   "cell_type": "code",
   "execution_count": 27,
   "metadata": {},
   "outputs": [
    {
     "name": "stdout",
     "output_type": "stream",
     "text": [
      "Doe\n",
      "python\n"
     ]
    }
   ],
   "source": [
    "dev_1 = Developer('John', 'Doe', 50_000, 'python')\n",
    "\n",
    "print(dev_1.last_name)\n",
    "print(dev_1.programming_language)"
   ]
  },
  {
   "cell_type": "markdown",
   "metadata": {},
   "source": [
    "#### Rectangle and Cuboid Example"
   ]
  },
  {
   "cell_type": "markdown",
   "metadata": {},
   "source": [
    "In this example, we have a superclass `Rectangle` from which the subclass `Cuboid` inhertis attributes and methods."
   ]
  },
  {
   "cell_type": "code",
   "execution_count": 62,
   "metadata": {},
   "outputs": [],
   "source": [
    "class Rectangle:\n",
    "    def __init__(self, length: int | float, width: int | float):\n",
    "        self.length = length\n",
    "        self.width = width\n",
    "    def area(self):\n",
    "        return self.length * self.width\n",
    "\n",
    "class Cuboid(Rectangle):\n",
    "    def __init__(self, length: int | float, width: int | float, height: int | float):\n",
    "        super().__init__(length, width)\n",
    "        self.height = height\n",
    "    def volume(self):\n",
    "        return self.area() * self.height"
   ]
  },
  {
   "cell_type": "code",
   "execution_count": 63,
   "metadata": {},
   "outputs": [
    {
     "name": "stdout",
     "output_type": "stream",
     "text": [
      "2\n",
      "6\n",
      "2\n",
      "24\n"
     ]
    }
   ],
   "source": [
    "rect = Rectangle(2, 3)\n",
    "cubo = Cuboid(2, 3, 4)\n",
    "\n",
    "print(rect.length)\n",
    "print(rect.area())\n",
    "print(cubo.length)\n",
    "print(cubo.volume())"
   ]
  },
  {
   "cell_type": "markdown",
   "metadata": {},
   "source": [
    "### `isintance` & `issubclass`"
   ]
  },
  {
   "cell_type": "markdown",
   "metadata": {},
   "source": [
    "The function `isinstance` allows to check if an object is an instance of a class."
   ]
  },
  {
   "cell_type": "code",
   "execution_count": 64,
   "metadata": {},
   "outputs": [
    {
     "name": "stdout",
     "output_type": "stream",
     "text": [
      "False\n",
      "True\n",
      "True\n"
     ]
    }
   ],
   "source": [
    "print(isinstance(employee_1, Developer))\n",
    "print(isinstance(dev_1, Developer))\n",
    "print(isinstance(dev_1, Employee))"
   ]
  },
  {
   "cell_type": "markdown",
   "metadata": {},
   "source": [
    "We notice that `dev_1` is still an instance of `Employee` since `Developer` is a subclass of `Employee`.\n",
    "\n",
    "The function `issubclass` checks if a class is a child/subclass of another class."
   ]
  },
  {
   "cell_type": "code",
   "execution_count": 65,
   "metadata": {},
   "outputs": [
    {
     "name": "stdout",
     "output_type": "stream",
     "text": [
      "True\n",
      "False\n"
     ]
    }
   ],
   "source": [
    "print(issubclass(Developer, Employee))\n",
    "print(issubclass(Employee, Developer))"
   ]
  },
  {
   "cell_type": "markdown",
   "metadata": {},
   "source": [
    "`Developer` is a subclass of `Employee`, but `Employee` is not a subclass of `Developer`"
   ]
  },
  {
   "cell_type": "markdown",
   "metadata": {},
   "source": [
    "## `__repr__` and `__str__`"
   ]
  },
  {
   "cell_type": "markdown",
   "metadata": {},
   "source": [
    "A class objected cannot be printed unless its class has a `__repr__` or `__str__` method."
   ]
  },
  {
   "cell_type": "code",
   "execution_count": 66,
   "metadata": {},
   "outputs": [],
   "source": [
    "class Employee:\n",
    "    \n",
    "    raise_amount = 1.04\n",
    "    nb_of_employees = 0\n",
    "    \n",
    "    def __init__(self, first_name, last_name, salary):\n",
    "        self.first_name = first_name\n",
    "        self.last_name = last_name\n",
    "        self.email = first_name.lower() + '.' + last_name.lower() + '@company.com'\n",
    "        self.salary = salary\n",
    "        Employee.nb_of_employees += 1\n",
    "    def fullname(self):\n",
    "        return '{} {}'.format(self.first_name, self.last_name)\n",
    "    def apply_raise(self):\n",
    "        # update salaray\n",
    "        self.salary = int(self.salary * self.raise_amount)"
   ]
  },
  {
   "cell_type": "code",
   "execution_count": 67,
   "metadata": {},
   "outputs": [
    {
     "name": "stdout",
     "output_type": "stream",
     "text": [
      "<__main__.Employee object at 0x00000221FEE77F10>\n"
     ]
    }
   ],
   "source": [
    "employee_1 = Employee('John', 'Doe', 50_000)\n",
    "\n",
    "print(employee_1)"
   ]
  },
  {
   "cell_type": "markdown",
   "metadata": {},
   "source": [
    "The `Employee` class doesn't have a `__repr__` or `__str__` method. And so, when we print the object `employee_1`, nothing interesting is printed."
   ]
  },
  {
   "cell_type": "code",
   "execution_count": 68,
   "metadata": {},
   "outputs": [],
   "source": [
    "class Employee:\n",
    "    \n",
    "    raise_amount = 1.04\n",
    "    nb_of_employees = 0\n",
    "    \n",
    "    def __init__(self, first_name, last_name, salary):\n",
    "        self.first_name = first_name\n",
    "        self.last_name = last_name\n",
    "        self.email = first_name.lower() + '.' + last_name.lower() + '@company.com'\n",
    "        self.salary = salary\n",
    "        Employee.nb_of_employees += 1\n",
    "    def fullname(self):\n",
    "        return '{} {}'.format(self.first_name, self.last_name)\n",
    "    def apply_raise(self):\n",
    "        # update salaray\n",
    "        self.salary = int(self.salary * self.raise_amount)\n",
    "    def __repr__(self):\n",
    "        return \"Employee({}, {}, {})\".format(self.first_name, self.last_name, self.salary)"
   ]
  },
  {
   "cell_type": "code",
   "execution_count": 69,
   "metadata": {},
   "outputs": [
    {
     "name": "stdout",
     "output_type": "stream",
     "text": [
      "Employee(John, Doe, 50000)\n"
     ]
    }
   ],
   "source": [
    "employee_1 = Employee('John', 'Doe', 50_000)\n",
    "\n",
    "print(employee_1)"
   ]
  },
  {
   "cell_type": "markdown",
   "metadata": {},
   "source": [
    "If the `Employee` class only has a `__repr__` and no `__str__` method, then the string returned by `__repr__` will be printed (like above).\n",
    "\n",
    "But, if the `__str__` method exists, then the string returned by it is printed and `__repr__` is ignored."
   ]
  },
  {
   "cell_type": "code",
   "execution_count": 70,
   "metadata": {},
   "outputs": [],
   "source": [
    "class Employee:\n",
    "    \n",
    "    raise_amount = 1.04\n",
    "    nb_of_employees = 0\n",
    "    \n",
    "    def __init__(self, first_name, last_name, salary):\n",
    "        self.first_name = first_name\n",
    "        self.last_name = last_name\n",
    "        self.email = first_name.lower() + '.' + last_name.lower() + '@company.com'\n",
    "        self.salary = salary\n",
    "        Employee.nb_of_employees += 1\n",
    "    def fullname(self):\n",
    "        return '{} {}'.format(self.first_name, self.last_name)\n",
    "    def apply_raise(self):\n",
    "        # update salaray\n",
    "        self.salary = int(self.salary * self.raise_amount)\n",
    "    def __repr__(self):\n",
    "        return \"Employee({}, {}, {})\".format(self.first_name, self.last_name, self.salary)\n",
    "    def __str__(self):\n",
    "        return \"{} — {}\".format(self.fullname(), self.email)"
   ]
  },
  {
   "cell_type": "code",
   "execution_count": 74,
   "metadata": {},
   "outputs": [
    {
     "name": "stdout",
     "output_type": "stream",
     "text": [
      "John Doe — john.doe@company.com\n"
     ]
    },
    {
     "data": {
      "text/plain": [
       "'John Doe — john.doe@company.com'"
      ]
     },
     "execution_count": 74,
     "metadata": {},
     "output_type": "execute_result"
    }
   ],
   "source": [
    "employee_1 = Employee('John', 'Doe', 50_000)\n",
    "\n",
    "print(employee_1)\n",
    "repr(employee_1)\n",
    "str(employee_1)"
   ]
  },
  {
   "cell_type": "markdown",
   "metadata": {},
   "source": [
    "## `__class__.__name__`"
   ]
  },
  {
   "cell_type": "markdown",
   "metadata": {},
   "source": [
    "The `__class__.__name__` attribute allows us to access the class name."
   ]
  },
  {
   "cell_type": "code",
   "execution_count": 9,
   "metadata": {},
   "outputs": [],
   "source": [
    "class Employee:\n",
    "    \n",
    "    def __init__(self, first_name, last_name, salary):\n",
    "        self.first_name = first_name\n",
    "        self.last_name = last_name\n",
    "        self.email = first_name.lower() + '.' + last_name.lower() + '@company.com'\n",
    "        self.salary = salary\n",
    "    def fullname(self):\n",
    "        return '{} {}'.format(self.first_name, self.last_name)\n",
    "    def __str__(self):\n",
    "        return \"Employee({}, {}, {})\".format(self.first_name, self.last_name, self.salary)\n",
    "\n",
    "class Developer(Employee):\n",
    "    pass"
   ]
  },
  {
   "cell_type": "code",
   "execution_count": 10,
   "metadata": {},
   "outputs": [
    {
     "name": "stdout",
     "output_type": "stream",
     "text": [
      "Employee\n",
      "Developer\n"
     ]
    }
   ],
   "source": [
    "employee_1 = Employee('John', 'Doe', 50_000)\n",
    "dev_1 = Developer('Jane', 'Smith', 50_000)\n",
    "\n",
    "print(employee_1.__class__.__name__)\n",
    "print(dev_1.__class__.__name__)"
   ]
  }
 ],
 "metadata": {
  "kernelspec": {
   "display_name": "Python 3",
   "language": "python",
   "name": "python3"
  },
  "language_info": {
   "codemirror_mode": {
    "name": "ipython",
    "version": 3
   },
   "file_extension": ".py",
   "mimetype": "text/x-python",
   "name": "python",
   "nbconvert_exporter": "python",
   "pygments_lexer": "ipython3",
   "version": "3.11.4"
  }
 },
 "nbformat": 4,
 "nbformat_minor": 2
}
