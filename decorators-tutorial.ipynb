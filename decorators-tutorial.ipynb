{
 "cells": [
  {
   "cell_type": "markdown",
   "metadata": {},
   "source": [
    "# Decorators"
   ]
  },
  {
   "cell_type": "markdown",
   "metadata": {},
   "source": [
    "A decorator is a design pattern in Python that allows a user to change how a class method works without modifying its structure. Decorators are usually called before the definition of a function you want to decorate and they start with an `@` sign."
   ]
  },
  {
   "cell_type": "markdown",
   "metadata": {},
   "source": [
    "## `@classmethod`"
   ]
  },
  {
   "cell_type": "markdown",
   "metadata": {},
   "source": [
    "The `@classmethod` decorator allows to pass the class instead of the instance to the method."
   ]
  },
  {
   "cell_type": "code",
   "execution_count": 8,
   "metadata": {},
   "outputs": [],
   "source": [
    "class Employee:\n",
    "    \n",
    "    raise_amount = 1.04\n",
    "    nb_of_employees = 0\n",
    "    \n",
    "    def __init__(self, first_name, last_name, salary):\n",
    "        self.first_name = first_name\n",
    "        self.last_name = last_name\n",
    "        self.email = first_name.lower() + '.' + last_name.lower() + '@company.com'\n",
    "        self.salary = salary\n",
    "        Employee.nb_of_employees += 1\n",
    "    def fullname(self):\n",
    "        return '{} {}'.format(self.first_name, self.last_name)\n",
    "    def apply_raise(self):\n",
    "        # update salaray\n",
    "        self.salary = int(self.salary * self.raise_amount)\n",
    "    @classmethod\n",
    "    def set_raise_amount(cls, amount):\n",
    "        cls.raise_amount = amount"
   ]
  },
  {
   "cell_type": "markdown",
   "metadata": {},
   "source": [
    "In the previous code cell, the `@classmethod` decorator allows us to pass the class as `cls` to the `set_raise_amount` method."
   ]
  },
  {
   "cell_type": "code",
   "execution_count": 9,
   "metadata": {},
   "outputs": [
    {
     "name": "stdout",
     "output_type": "stream",
     "text": [
      "1.06\n",
      "1.06\n",
      "1.06\n"
     ]
    }
   ],
   "source": [
    "employee_1 = Employee('John', 'Doe', 50_000)\n",
    "employee_2 = Employee('Jane', 'Dun', 60_000)\n",
    "\n",
    "Employee.set_raise_amount(1.06)\n",
    "\n",
    "print(employee_1.raise_amount)\n",
    "print(employee_2.raise_amount)\n",
    "print(Employee.raise_amount)"
   ]
  },
  {
   "cell_type": "code",
   "execution_count": 10,
   "metadata": {},
   "outputs": [
    {
     "name": "stdout",
     "output_type": "stream",
     "text": [
      "1.1\n",
      "1.1\n",
      "1.1\n"
     ]
    }
   ],
   "source": [
    "employee_1.set_raise_amount(1.1)\n",
    "\n",
    "print(employee_1.raise_amount)\n",
    "print(employee_2.raise_amount)\n",
    "print(Employee.raise_amount)"
   ]
  },
  {
   "cell_type": "markdown",
   "metadata": {},
   "source": [
    "Now, the class variable `raise_amount` can be set from the **class** as well as the **instance**.\n",
    "\n",
    "However, it is not a common practice to use **class methods** for this purpose. They are most commonly used as alternative contructors."
   ]
  },
  {
   "cell_type": "code",
   "execution_count": 23,
   "metadata": {},
   "outputs": [],
   "source": [
    "class Employee:\n",
    "    \n",
    "    raise_amount = 1.04\n",
    "    nb_of_employees = 0\n",
    "    \n",
    "    def __init__(self, first_name, last_name, salary):\n",
    "        self.first_name = first_name\n",
    "        self.last_name = last_name\n",
    "        self.email = first_name.lower() + '.' + last_name.lower() + '@company.com'\n",
    "        self.salary = salary\n",
    "        Employee.nb_of_employees += 1\n",
    "    def fullname(self):\n",
    "        return '{} {}'.format(self.first_name, self.last_name)\n",
    "    def apply_raise(self):\n",
    "        # update salaray\n",
    "        self.salary = int(self.salary * self.raise_amount)\n",
    "    @classmethod\n",
    "    def from_string(cls, employee_str):\n",
    "        first_name, last_name, salary = employee_str.split('-')\n",
    "        # we should return the employee object or else None will be returned\n",
    "        return cls(first_name, last_name, int(salary))"
   ]
  },
  {
   "cell_type": "markdown",
   "metadata": {},
   "source": [
    "Now the class method `from_string` offers an alternative contrustor to the class `Employee`, where an instance is created from a string."
   ]
  },
  {
   "cell_type": "code",
   "execution_count": 22,
   "metadata": {},
   "outputs": [
    {
     "data": {
      "text/plain": [
       "45000"
      ]
     },
     "execution_count": 22,
     "metadata": {},
     "output_type": "execute_result"
    }
   ],
   "source": [
    "employee_3 = Employee.from_string('Joe-Dohn-45_000')\n",
    "employee_4 = Employee.from_string('Jean-Dune-55_000')\n",
    "\n",
    "employee_3.salary"
   ]
  },
  {
   "cell_type": "markdown",
   "metadata": {},
   "source": [
    "## `@staticmethod`"
   ]
  },
  {
   "cell_type": "markdown",
   "metadata": {},
   "source": [
    "Static methods neither passes `self` nor `cls`. They work like a normal function however they might be useful to include in a class. For example, in the example below, the method `is_workday` does not take `self` or `cls` as input, as it does not depend on them."
   ]
  },
  {
   "cell_type": "code",
   "execution_count": 34,
   "metadata": {},
   "outputs": [],
   "source": [
    "class Employee:\n",
    "    \n",
    "    raise_amount = 1.04\n",
    "    nb_of_employees = 0\n",
    "    \n",
    "    def __init__(self, first_name, last_name, salary):\n",
    "        self.first_name = first_name\n",
    "        self.last_name = last_name\n",
    "        self.email = first_name.lower() + '.' + last_name.lower() + '@company.com'\n",
    "        self.salary = salary\n",
    "        Employee.nb_of_employees += 1\n",
    "    def fullname(self):\n",
    "        return '{} {}'.format(self.first_name, self.last_name)\n",
    "    def apply_raise(self):\n",
    "        # update salaray\n",
    "        self.salary = int(self.salary * self.raise_amount)\n",
    "    @classmethod\n",
    "    def set_raise_amount(cls, amount):\n",
    "        cls.raise_amount = amount\n",
    "    @staticmethod\n",
    "    def is_workday(day):\n",
    "        if day.weekday() == 5 or day.weekday() == 6:\n",
    "            return False\n",
    "        return True"
   ]
  },
  {
   "cell_type": "code",
   "execution_count": 35,
   "metadata": {},
   "outputs": [
    {
     "name": "stdout",
     "output_type": "stream",
     "text": [
      "True\n"
     ]
    }
   ],
   "source": [
    "import datetime\n",
    "\n",
    "my_date = datetime.date(2023, 12, 4)\n",
    "\n",
    "print(Employee.is_workday(my_date))"
   ]
  },
  {
   "cell_type": "markdown",
   "metadata": {},
   "source": [
    "## `@property`"
   ]
  },
  {
   "cell_type": "markdown",
   "metadata": {},
   "source": [
    "The `@property` decorator allows us to access a method as if it was an attribute (getter behavior)."
   ]
  },
  {
   "cell_type": "code",
   "execution_count": 3,
   "metadata": {},
   "outputs": [],
   "source": [
    "class Employee:\n",
    "    \n",
    "    def __init__(self, first_name, last_name, salary):\n",
    "        self.first_name = first_name\n",
    "        self.last_name = last_name\n",
    "        self.email = first_name.lower() + '.' + last_name.lower() + '@company.com'\n",
    "        self.salary = salary\n",
    "    def fullname(self):\n",
    "        return '{} {}'.format(self.first_name, self.last_name)"
   ]
  },
  {
   "cell_type": "code",
   "execution_count": 4,
   "metadata": {},
   "outputs": [
    {
     "name": "stdout",
     "output_type": "stream",
     "text": [
      "Joey\n",
      "john.doe@company.com\n"
     ]
    }
   ],
   "source": [
    "employee_1 = Employee('John', 'Doe', 50_000)\n",
    "\n",
    "employee_1.first_name = 'Joey'\n",
    "print(employee_1.first_name)\n",
    "print(employee_1.email)"
   ]
  },
  {
   "cell_type": "markdown",
   "metadata": {},
   "source": [
    "In the code above, when we changed the `first_name`, the `email` maintained its old value as it is defined at the moment where the instance is created. It is a better practice to define an `email` method that can be accessed as an attribute. For that we use the `@property` decorator"
   ]
  },
  {
   "cell_type": "code",
   "execution_count": 7,
   "metadata": {},
   "outputs": [],
   "source": [
    "class Employee:\n",
    "    \n",
    "    def __init__(self, first_name, last_name, salary):\n",
    "        self.first_name = first_name\n",
    "        self.last_name = last_name\n",
    "        self.salary = salary\n",
    "    @property\n",
    "    def email(self):\n",
    "        return self.first_name.lower() + '.' + self.last_name.lower() + '@company.com'\n",
    "    def fullname(self):\n",
    "        return '{} {}'.format(self.first_name, self.last_name)"
   ]
  },
  {
   "cell_type": "code",
   "execution_count": 8,
   "metadata": {},
   "outputs": [
    {
     "name": "stdout",
     "output_type": "stream",
     "text": [
      "Joey\n",
      "joey.doe@company.com\n"
     ]
    }
   ],
   "source": [
    "employee_1 = Employee('John', 'Doe', 50_000)\n",
    "\n",
    "employee_1.first_name = 'Joey'\n",
    "print(employee_1.first_name)\n",
    "print(employee_1.email)"
   ]
  },
  {
   "cell_type": "markdown",
   "metadata": {},
   "source": [
    "Now, the email updates everytime we update the `first_name` and `last_name`."
   ]
  },
  {
   "cell_type": "markdown",
   "metadata": {},
   "source": [
    "## `@<method>.setter`"
   ]
  },
  {
   "cell_type": "markdown",
   "metadata": {},
   "source": [
    "We can use the `@<method>.setter` decorator to make a method achieve a setter behavior. However, the method must first be a getter (decorated with `@property`).\n",
    "\n",
    "In the following code, we decorate the `fullname` method with `@property` and then we create a fullname setter by using the `@fullname.setter` decorator."
   ]
  },
  {
   "cell_type": "code",
   "execution_count": 34,
   "metadata": {},
   "outputs": [],
   "source": [
    "class Employee:\n",
    "    \n",
    "    def __init__(self, first_name, last_name, salary):\n",
    "        self.first_name = first_name\n",
    "        self.last_name = last_name\n",
    "        self.salary = salary\n",
    "    @property\n",
    "    def email(self):\n",
    "        return self.first_name.lower() + '.' + self.last_name.lower() + '@company.com'\n",
    "    # getter\n",
    "    @property\n",
    "    def fullname(self):\n",
    "        return '{} {}'.format(self.first_name, self.last_name)\n",
    "    # setter\n",
    "    @fullname.setter\n",
    "    def fullname(self, name):\n",
    "        self.first_name, self.last_name = name.split(' ')\n",
    "    # deleter\n",
    "    @fullname.deleter\n",
    "    def fullname(self):\n",
    "        print('First and Last Names Deleted!')\n",
    "        self.first_name = self.last_name = None"
   ]
  },
  {
   "cell_type": "code",
   "execution_count": 35,
   "metadata": {},
   "outputs": [
    {
     "name": "stdout",
     "output_type": "stream",
     "text": [
      "John Smith\n",
      "Joe Rogan\n"
     ]
    }
   ],
   "source": [
    "employee_1 = Employee('John', 'Smith', 50_000)\n",
    "print(employee_1.fullname)\n",
    "\n",
    "employee_1.fullname = \"Joe Rogan\"\n",
    "print(employee_1.fullname)"
   ]
  },
  {
   "cell_type": "markdown",
   "metadata": {},
   "source": [
    "We see that the `fullname` method now acts more or less as an attribute, as it is both a setter and a getter.\n",
    "\n",
    "In the code above we also set a deleter for `fullname` by using the `@fullname.deleter` decorator. It defines how the `del` command should act when called on the `fullname` method."
   ]
  },
  {
   "cell_type": "code",
   "execution_count": 36,
   "metadata": {},
   "outputs": [
    {
     "name": "stdout",
     "output_type": "stream",
     "text": [
      "First and Last Names Deleted!\n",
      "None\n"
     ]
    }
   ],
   "source": [
    "del employee_1.fullname\n",
    "print(employee_1.first_name)"
   ]
  },
  {
   "cell_type": "markdown",
   "metadata": {},
   "source": [
    "## `@abstractmethod`"
   ]
  },
  {
   "cell_type": "markdown",
   "metadata": {},
   "source": [
    "Python has an abstract class. It serve to build a blueprint for subclasses. When defined, an abstract class should inherit from `ABC`, which is short for **Abstract Base Class**. The abstract class should contain at least 1 abstract method. Abstract methods are preceded by the `@abstractmetho` decorator and they are generally empty methods."
   ]
  },
  {
   "cell_type": "code",
   "execution_count": 1,
   "metadata": {},
   "outputs": [],
   "source": [
    "from abc import ABC, abstractmethod\n",
    "\n",
    "class Animal(ABC):\n",
    "    @abstractmethod\n",
    "    def __init__(self):\n",
    "        ...\n",
    "    @property\n",
    "    @abstractmethod\n",
    "    def age(self):\n",
    "        ..."
   ]
  },
  {
   "cell_type": "markdown",
   "metadata": {},
   "source": [
    "As shown in the cell below, we cannot create object from an abstract class."
   ]
  },
  {
   "cell_type": "code",
   "execution_count": 2,
   "metadata": {},
   "outputs": [
    {
     "ename": "TypeError",
     "evalue": "Can't instantiate abstract class Animal with abstract methods __init__, age",
     "output_type": "error",
     "traceback": [
      "\u001b[1;31m---------------------------------------------------------------------------\u001b[0m",
      "\u001b[1;31mTypeError\u001b[0m                                 Traceback (most recent call last)",
      "\u001b[1;32mc:\\Users\\user\\Desktop\\MOOCs\\python-tutorials\\decorators-tutorial.ipynb Cell 33\u001b[0m line \u001b[0;36m1\n\u001b[1;32m----> <a href='vscode-notebook-cell:/c%3A/Users/user/Desktop/MOOCs/python-tutorials/decorators-tutorial.ipynb#X44sZmlsZQ%3D%3D?line=0'>1</a>\u001b[0m dog1 \u001b[39m=\u001b[39m Animal()\n",
      "\u001b[1;31mTypeError\u001b[0m: Can't instantiate abstract class Animal with abstract methods __init__, age"
     ]
    }
   ],
   "source": [
    "dog1 = Animal()"
   ]
  },
  {
   "cell_type": "markdown",
   "metadata": {},
   "source": [
    "The class serves only as a blueprint for subclasses. It serves as a checks and balances strategy. The blueprint requires that any subclass should have an `__init__` and an `age` method."
   ]
  },
  {
   "cell_type": "code",
   "execution_count": 21,
   "metadata": {},
   "outputs": [],
   "source": [
    "import datetime\n",
    "\n",
    "class Dog(Animal):\n",
    "    def __init__(self, name: str, DOB: datetime.date):\n",
    "        self.name = name\n",
    "        self.DOB = DOB\n"
   ]
  },
  {
   "cell_type": "markdown",
   "metadata": {},
   "source": [
    "If, for example, the class is created with no `age` method, we get an error as the method is missing."
   ]
  },
  {
   "cell_type": "code",
   "execution_count": 22,
   "metadata": {},
   "outputs": [
    {
     "ename": "TypeError",
     "evalue": "Can't instantiate abstract class Dog with abstract method age",
     "output_type": "error",
     "traceback": [
      "\u001b[1;31m---------------------------------------------------------------------------\u001b[0m",
      "\u001b[1;31mTypeError\u001b[0m                                 Traceback (most recent call last)",
      "\u001b[1;32mc:\\Users\\user\\Desktop\\MOOCs\\python-tutorials\\decorators-tutorial.ipynb Cell 39\u001b[0m line \u001b[0;36m1\n\u001b[1;32m----> <a href='vscode-notebook-cell:/c%3A/Users/user/Desktop/MOOCs/python-tutorials/decorators-tutorial.ipynb#X46sZmlsZQ%3D%3D?line=0'>1</a>\u001b[0m dog1 \u001b[39m=\u001b[39m Dog(\u001b[39m'\u001b[39;49m\u001b[39mRex\u001b[39;49m\u001b[39m'\u001b[39;49m, datetime\u001b[39m.\u001b[39;49mdate(\u001b[39m2015\u001b[39;49m, \u001b[39m12\u001b[39;49m, \u001b[39m25\u001b[39;49m))\n",
      "\u001b[1;31mTypeError\u001b[0m: Can't instantiate abstract class Dog with abstract method age"
     ]
    }
   ],
   "source": [
    "dog1 = Dog('Rex', datetime.date(2015, 12, 25))"
   ]
  },
  {
   "cell_type": "markdown",
   "metadata": {},
   "source": [
    "Only when we respect the blueprint of the abstract class, that we can create a class object"
   ]
  },
  {
   "cell_type": "code",
   "execution_count": 23,
   "metadata": {},
   "outputs": [],
   "source": [
    "import datetime\n",
    "\n",
    "class Dog(Animal):\n",
    "    def __init__(self, name: str, DOB: datetime.date):\n",
    "        self.name = name\n",
    "        self.DOB = DOB\n",
    "    @property\n",
    "    def age(self):\n",
    "        return datetime.date.today().year - self.DOB.year"
   ]
  },
  {
   "cell_type": "code",
   "execution_count": 24,
   "metadata": {},
   "outputs": [
    {
     "name": "stdout",
     "output_type": "stream",
     "text": [
      "Rex\n",
      "8\n"
     ]
    }
   ],
   "source": [
    "dog1 = Dog('Rex', datetime.date(2015, 12, 25))\n",
    "\n",
    "print(dog1.name)\n",
    "print(dog1.age)"
   ]
  },
  {
   "cell_type": "markdown",
   "metadata": {},
   "source": [
    "## Custom Decorators"
   ]
  },
  {
   "cell_type": "markdown",
   "metadata": {},
   "source": [
    "We have the flexibility to craft custom decorators in Python. This involves passing a function to a nested wrapper, within which additional desired operations are executed, and ultimately returning the wrapper.\n",
    "\n",
    "In the provided code cell example, we define a benchmark decorator that gauges the execution time of any function using `perf_counter`.\n",
    "\n",
    "For further insights into the distinctions between `time` and `perf_counter`, you can refer to the [link](https://superfastpython.com/time-time-vs-time-perf_counter/).\n"
   ]
  },
  {
   "cell_type": "code",
   "execution_count": 9,
   "metadata": {},
   "outputs": [],
   "source": [
    "from time import sleep, perf_counter\n",
    "from typing import Any, Callable\n",
    "\n",
    "def benchmark(func: Callable[..., Any]) -> Callable[..., Any]:\n",
    "    def wrapper(*args: Any, **kwargs: Any):\n",
    "        start_time = perf_counter()\n",
    "        value = func(*args, **kwargs)\n",
    "        end_time = perf_counter()\n",
    "        run_time = end_time - start_time\n",
    "        print(f\"Execution of {func.__name__} took {run_time:.2f} seconds\")\n",
    "        return value\n",
    "    return wrapper"
   ]
  },
  {
   "cell_type": "markdown",
   "metadata": {},
   "source": [
    "To decorate a function, we simply invoke the decorator by adding the `@` symbol before the function's name. Python interprets this syntax as instructing it to pass the function to the decorator function and execute the modified function returned by the decorator."
   ]
  },
  {
   "cell_type": "code",
   "execution_count": 10,
   "metadata": {},
   "outputs": [
    {
     "name": "stdout",
     "output_type": "stream",
     "text": [
      "Execution of dummy_func took 1.00 seconds\n",
      "Execution of dummy_func took 2.00 seconds\n"
     ]
    }
   ],
   "source": [
    "@benchmark\n",
    "def dummy_func(t):\n",
    "    sleep(t)\n",
    "\n",
    "dummy_func(1)\n",
    "dummy_func(2)"
   ]
  }
 ],
 "metadata": {
  "kernelspec": {
   "display_name": "Python 3",
   "language": "python",
   "name": "python3"
  },
  "language_info": {
   "codemirror_mode": {
    "name": "ipython",
    "version": 3
   },
   "file_extension": ".py",
   "mimetype": "text/x-python",
   "name": "python",
   "nbconvert_exporter": "python",
   "pygments_lexer": "ipython3",
   "version": "3.11.4"
  }
 },
 "nbformat": 4,
 "nbformat_minor": 2
}
