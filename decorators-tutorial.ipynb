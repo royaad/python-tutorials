{
 "cells": [
  {
   "cell_type": "markdown",
   "metadata": {},
   "source": [
    "# Decorators"
   ]
  },
  {
   "cell_type": "markdown",
   "metadata": {},
   "source": [
    "A decorator is a design pattern in Python that allows a user to change how a class method works without modifying its structure. Decorators are usually called before the definition of a function you want to decorate and they start with an `@` sign."
   ]
  },
  {
   "cell_type": "markdown",
   "metadata": {},
   "source": [
    "## `@classmethod`"
   ]
  },
  {
   "cell_type": "markdown",
   "metadata": {},
   "source": [
    "The `@classmethod` decorator allows to pass the class instead of the instance to the method."
   ]
  },
  {
   "cell_type": "code",
   "execution_count": 8,
   "metadata": {},
   "outputs": [],
   "source": [
    "class Employee:\n",
    "    \n",
    "    raise_amount = 1.04\n",
    "    nb_of_employees = 0\n",
    "    \n",
    "    def __init__(self, first_name, last_name, salary):\n",
    "        self.first_name = first_name\n",
    "        self.last_name = last_name\n",
    "        self.email = first_name.lower() + '.' + last_name.lower() + '@company.com'\n",
    "        self.salary = salary\n",
    "        Employee.nb_of_employees += 1\n",
    "    def fullname(self):\n",
    "        return '{} {}'.format(self.first_name, self.last_name)\n",
    "    def apply_raise(self):\n",
    "        # update salaray\n",
    "        self.salary = int(self.salary * self.raise_amount)\n",
    "    @classmethod\n",
    "    def set_raise_amount(cls, amount):\n",
    "        cls.raise_amount = amount"
   ]
  },
  {
   "cell_type": "markdown",
   "metadata": {},
   "source": [
    "In the previous code cell, the `@classmethod` decorator allows us to pass the class as `cls` to the `set_raise_amount` method."
   ]
  },
  {
   "cell_type": "code",
   "execution_count": 9,
   "metadata": {},
   "outputs": [
    {
     "name": "stdout",
     "output_type": "stream",
     "text": [
      "1.06\n",
      "1.06\n",
      "1.06\n"
     ]
    }
   ],
   "source": [
    "employee_1 = Employee('John', 'Doe', 50_000)\n",
    "employee_2 = Employee('Jane', 'Dun', 60_000)\n",
    "\n",
    "Employee.set_raise_amount(1.06)\n",
    "\n",
    "print(employee_1.raise_amount)\n",
    "print(employee_2.raise_amount)\n",
    "print(Employee.raise_amount)"
   ]
  },
  {
   "cell_type": "code",
   "execution_count": 10,
   "metadata": {},
   "outputs": [
    {
     "name": "stdout",
     "output_type": "stream",
     "text": [
      "1.1\n",
      "1.1\n",
      "1.1\n"
     ]
    }
   ],
   "source": [
    "employee_1.set_raise_amount(1.1)\n",
    "\n",
    "print(employee_1.raise_amount)\n",
    "print(employee_2.raise_amount)\n",
    "print(Employee.raise_amount)"
   ]
  },
  {
   "cell_type": "markdown",
   "metadata": {},
   "source": [
    "Now, the class variable `raise_amount` can be set from the **class** as well as the **instance**.\n",
    "\n",
    "However, it is not a common practice to use **class methods** for this purpose. They are most commonly used as alternative contructors."
   ]
  },
  {
   "cell_type": "code",
   "execution_count": 23,
   "metadata": {},
   "outputs": [],
   "source": [
    "class Employee:\n",
    "    \n",
    "    raise_amount = 1.04\n",
    "    nb_of_employees = 0\n",
    "    \n",
    "    def __init__(self, first_name, last_name, salary):\n",
    "        self.first_name = first_name\n",
    "        self.last_name = last_name\n",
    "        self.email = first_name.lower() + '.' + last_name.lower() + '@company.com'\n",
    "        self.salary = salary\n",
    "        Employee.nb_of_employees += 1\n",
    "    def fullname(self):\n",
    "        return '{} {}'.format(self.first_name, self.last_name)\n",
    "    def apply_raise(self):\n",
    "        # update salaray\n",
    "        self.salary = int(self.salary * self.raise_amount)\n",
    "    @classmethod\n",
    "    def from_string(cls, employee_str):\n",
    "        first_name, last_name, salary = employee_str.split('-')\n",
    "        # we should return the employee object or else None will be returned\n",
    "        return cls(first_name, last_name, int(salary))"
   ]
  },
  {
   "cell_type": "markdown",
   "metadata": {},
   "source": [
    "Now the class method `from_string` offers an alternative contrustor to the class `Employee`, where an instance is created from a string."
   ]
  },
  {
   "cell_type": "code",
   "execution_count": 22,
   "metadata": {},
   "outputs": [
    {
     "data": {
      "text/plain": [
       "45000"
      ]
     },
     "execution_count": 22,
     "metadata": {},
     "output_type": "execute_result"
    }
   ],
   "source": [
    "employee_3 = Employee.from_string('Joe-Dohn-45_000')\n",
    "employee_4 = Employee.from_string('Jean-Dune-55_000')\n",
    "\n",
    "employee_3.salary"
   ]
  },
  {
   "cell_type": "markdown",
   "metadata": {},
   "source": [
    "## `@staticmethod`"
   ]
  },
  {
   "cell_type": "markdown",
   "metadata": {},
   "source": [
    "Static methods neither passes `self` nor `cls`. They work like a normal function however they might be useful to include in a class. For example, in the example below, the method `is_workday` does not take `self` or `cls` as input, as it does not depend on them."
   ]
  },
  {
   "cell_type": "code",
   "execution_count": 34,
   "metadata": {},
   "outputs": [],
   "source": [
    "class Employee:\n",
    "    \n",
    "    raise_amount = 1.04\n",
    "    nb_of_employees = 0\n",
    "    \n",
    "    def __init__(self, first_name, last_name, salary):\n",
    "        self.first_name = first_name\n",
    "        self.last_name = last_name\n",
    "        self.email = first_name.lower() + '.' + last_name.lower() + '@company.com'\n",
    "        self.salary = salary\n",
    "        Employee.nb_of_employees += 1\n",
    "    def fullname(self):\n",
    "        return '{} {}'.format(self.first_name, self.last_name)\n",
    "    def apply_raise(self):\n",
    "        # update salaray\n",
    "        self.salary = int(self.salary * self.raise_amount)\n",
    "    @classmethod\n",
    "    def set_raise_amount(cls, amount):\n",
    "        cls.raise_amount = amount\n",
    "    @staticmethod\n",
    "    def is_workday(day):\n",
    "        if day.weekday() == 5 or day.weekday() == 6:\n",
    "            return False\n",
    "        return True"
   ]
  },
  {
   "cell_type": "code",
   "execution_count": 35,
   "metadata": {},
   "outputs": [
    {
     "name": "stdout",
     "output_type": "stream",
     "text": [
      "True\n"
     ]
    }
   ],
   "source": [
    "import datetime\n",
    "\n",
    "my_date = datetime.date(2023, 12, 4)\n",
    "\n",
    "print(Employee.is_workday(my_date))"
   ]
  },
  {
   "cell_type": "markdown",
   "metadata": {},
   "source": [
    "## `@property`"
   ]
  },
  {
   "cell_type": "markdown",
   "metadata": {},
   "source": [
    "The `@property` decorator allows us to access a method as if it was an attribute (getter behavior)."
   ]
  },
  {
   "cell_type": "code",
   "execution_count": 3,
   "metadata": {},
   "outputs": [],
   "source": [
    "class Employee:\n",
    "    \n",
    "    def __init__(self, first_name, last_name, salary):\n",
    "        self.first_name = first_name\n",
    "        self.last_name = last_name\n",
    "        self.email = first_name.lower() + '.' + last_name.lower() + '@company.com'\n",
    "        self.salary = salary\n",
    "    def fullname(self):\n",
    "        return '{} {}'.format(self.first_name, self.last_name)"
   ]
  },
  {
   "cell_type": "code",
   "execution_count": 4,
   "metadata": {},
   "outputs": [
    {
     "name": "stdout",
     "output_type": "stream",
     "text": [
      "Joey\n",
      "john.doe@company.com\n"
     ]
    }
   ],
   "source": [
    "employee_1 = Employee('John', 'Doe', 50_000)\n",
    "\n",
    "employee_1.first_name = 'Joey'\n",
    "print(employee_1.first_name)\n",
    "print(employee_1.email)"
   ]
  },
  {
   "cell_type": "markdown",
   "metadata": {},
   "source": [
    "In the code above, when we changed the `first_name`, the `email` maintained its old value as it is defined at the moment where the instance is created. It is a better practice to define an `email` method that can be accessed as an attribute. For that we use the `@property` decorator"
   ]
  },
  {
   "cell_type": "code",
   "execution_count": 7,
   "metadata": {},
   "outputs": [],
   "source": [
    "class Employee:\n",
    "    \n",
    "    def __init__(self, first_name, last_name, salary):\n",
    "        self.first_name = first_name\n",
    "        self.last_name = last_name\n",
    "        self.salary = salary\n",
    "    @property\n",
    "    def email(self):\n",
    "        return self.first_name.lower() + '.' + self.last_name.lower() + '@company.com'\n",
    "    def fullname(self):\n",
    "        return '{} {}'.format(self.first_name, self.last_name)"
   ]
  },
  {
   "cell_type": "code",
   "execution_count": 8,
   "metadata": {},
   "outputs": [
    {
     "name": "stdout",
     "output_type": "stream",
     "text": [
      "Joey\n",
      "joey.doe@company.com\n"
     ]
    }
   ],
   "source": [
    "employee_1 = Employee('John', 'Doe', 50_000)\n",
    "\n",
    "employee_1.first_name = 'Joey'\n",
    "print(employee_1.first_name)\n",
    "print(employee_1.email)"
   ]
  },
  {
   "cell_type": "markdown",
   "metadata": {},
   "source": [
    "Now, the email updates everytime we update the `first_name` and `last_name`."
   ]
  },
  {
   "cell_type": "markdown",
   "metadata": {},
   "source": [
    "## `@<method>.setter`"
   ]
  },
  {
   "cell_type": "markdown",
   "metadata": {},
   "source": [
    "We can use the `@<method>.setter` decorator to make a method achieve a setter behavior. However, the method must first be a getter (decorated with `@property`).\n",
    "\n",
    "In the following code, we decorate the `fullname` method with `@property` and then we create a fullname setter by using the `@fullname.setter` decorator."
   ]
  },
  {
   "cell_type": "code",
   "execution_count": 34,
   "metadata": {},
   "outputs": [],
   "source": [
    "class Employee:\n",
    "    \n",
    "    def __init__(self, first_name, last_name, salary):\n",
    "        self.first_name = first_name\n",
    "        self.last_name = last_name\n",
    "        self.salary = salary\n",
    "    @property\n",
    "    def email(self):\n",
    "        return self.first_name.lower() + '.' + self.last_name.lower() + '@company.com'\n",
    "    # getter\n",
    "    @property\n",
    "    def fullname(self):\n",
    "        return '{} {}'.format(self.first_name, self.last_name)\n",
    "    # setter\n",
    "    @fullname.setter\n",
    "    def fullname(self, name):\n",
    "        self.first_name, self.last_name = name.split(' ')\n",
    "    # deleter\n",
    "    @fullname.deleter\n",
    "    def fullname(self):\n",
    "        print('First and Last Names Deleted!')\n",
    "        self.first_name = self.last_name = None"
   ]
  },
  {
   "cell_type": "code",
   "execution_count": 35,
   "metadata": {},
   "outputs": [
    {
     "name": "stdout",
     "output_type": "stream",
     "text": [
      "John Smith\n",
      "Joe Rogan\n"
     ]
    }
   ],
   "source": [
    "employee_1 = Employee('John', 'Smith', 50_000)\n",
    "print(employee_1.fullname)\n",
    "\n",
    "employee_1.fullname = \"Joe Rogan\"\n",
    "print(employee_1.fullname)"
   ]
  },
  {
   "cell_type": "markdown",
   "metadata": {},
   "source": [
    "We see that the `fullname` method now acts more or less as an attribute, as it is both a setter and a getter.\n",
    "\n",
    "In the code above we also set a deleter for `fullname` by using the `@fullname.deleter` decorator. It defines how the `del` command should act when called on the `fullname` method."
   ]
  },
  {
   "cell_type": "code",
   "execution_count": 36,
   "metadata": {},
   "outputs": [
    {
     "name": "stdout",
     "output_type": "stream",
     "text": [
      "First and Last Names Deleted!\n",
      "None\n"
     ]
    }
   ],
   "source": [
    "del employee_1.fullname\n",
    "print(employee_1.first_name)"
   ]
  },
  {
   "cell_type": "markdown",
   "metadata": {},
   "source": [
    "## `@abstractmethod`"
   ]
  },
  {
   "cell_type": "markdown",
   "metadata": {},
   "source": [
    "Python has an abstract class. It serve to build a blueprint for subclasses. When defined, an abstract class should inherit from `ABC`, which is short for **Abstract Base Class**. The abstract class should contain at least 1 abstract method. Abstract methods are preceded by the `@abstractmetho` decorator and they are generally empty methods."
   ]
  },
  {
   "cell_type": "code",
   "execution_count": 1,
   "metadata": {},
   "outputs": [],
   "source": [
    "from abc import ABC, abstractmethod\n",
    "\n",
    "class Animal(ABC):\n",
    "    @abstractmethod\n",
    "    def __init__(self):\n",
    "        ...\n",
    "    @property\n",
    "    @abstractmethod\n",
    "    def age(self):\n",
    "        ..."
   ]
  },
  {
   "cell_type": "markdown",
   "metadata": {},
   "source": [
    "As shown in the cell below, we cannot create object from an abstract class."
   ]
  },
  {
   "cell_type": "code",
   "execution_count": 2,
   "metadata": {},
   "outputs": [
    {
     "ename": "TypeError",
     "evalue": "Can't instantiate abstract class Animal with abstract methods __init__, age",
     "output_type": "error",
     "traceback": [
      "\u001b[1;31m---------------------------------------------------------------------------\u001b[0m",
      "\u001b[1;31mTypeError\u001b[0m                                 Traceback (most recent call last)",
      "\u001b[1;32mc:\\Users\\user\\Desktop\\MOOCs\\python-tutorials\\decorators-tutorial.ipynb Cell 33\u001b[0m line \u001b[0;36m1\n\u001b[1;32m----> <a href='vscode-notebook-cell:/c%3A/Users/user/Desktop/MOOCs/python-tutorials/decorators-tutorial.ipynb#X44sZmlsZQ%3D%3D?line=0'>1</a>\u001b[0m dog1 \u001b[39m=\u001b[39m Animal()\n",
      "\u001b[1;31mTypeError\u001b[0m: Can't instantiate abstract class Animal with abstract methods __init__, age"
     ]
    }
   ],
   "source": [
    "dog1 = Animal()"
   ]
  },
  {
   "cell_type": "markdown",
   "metadata": {},
   "source": [
    "The class serves only as a blueprint for subclasses. It serves as a checks and balances strategy. The blueprint requires that any subclass should have an `__init__` and an `age` method."
   ]
  },
  {
   "cell_type": "code",
   "execution_count": 21,
   "metadata": {},
   "outputs": [],
   "source": [
    "import datetime\n",
    "\n",
    "class Dog(Animal):\n",
    "    def __init__(self, name: str, DOB: datetime.date):\n",
    "        self.name = name\n",
    "        self.DOB = DOB\n"
   ]
  },
  {
   "cell_type": "markdown",
   "metadata": {},
   "source": [
    "If, for example, the class is created with no `age` method, we get an error as the method is missing."
   ]
  },
  {
   "cell_type": "code",
   "execution_count": 22,
   "metadata": {},
   "outputs": [
    {
     "ename": "TypeError",
     "evalue": "Can't instantiate abstract class Dog with abstract method age",
     "output_type": "error",
     "traceback": [
      "\u001b[1;31m---------------------------------------------------------------------------\u001b[0m",
      "\u001b[1;31mTypeError\u001b[0m                                 Traceback (most recent call last)",
      "\u001b[1;32mc:\\Users\\user\\Desktop\\MOOCs\\python-tutorials\\decorators-tutorial.ipynb Cell 39\u001b[0m line \u001b[0;36m1\n\u001b[1;32m----> <a href='vscode-notebook-cell:/c%3A/Users/user/Desktop/MOOCs/python-tutorials/decorators-tutorial.ipynb#X46sZmlsZQ%3D%3D?line=0'>1</a>\u001b[0m dog1 \u001b[39m=\u001b[39m Dog(\u001b[39m'\u001b[39;49m\u001b[39mRex\u001b[39;49m\u001b[39m'\u001b[39;49m, datetime\u001b[39m.\u001b[39;49mdate(\u001b[39m2015\u001b[39;49m, \u001b[39m12\u001b[39;49m, \u001b[39m25\u001b[39;49m))\n",
      "\u001b[1;31mTypeError\u001b[0m: Can't instantiate abstract class Dog with abstract method age"
     ]
    }
   ],
   "source": [
    "dog1 = Dog('Rex', datetime.date(2015, 12, 25))"
   ]
  },
  {
   "cell_type": "markdown",
   "metadata": {},
   "source": [
    "Only when we respect the blueprint of the abstract class, that we can create a class object"
   ]
  },
  {
   "cell_type": "code",
   "execution_count": 23,
   "metadata": {},
   "outputs": [],
   "source": [
    "import datetime\n",
    "\n",
    "class Dog(Animal):\n",
    "    def __init__(self, name: str, DOB: datetime.date):\n",
    "        self.name = name\n",
    "        self.DOB = DOB\n",
    "    @property\n",
    "    def age(self):\n",
    "        return datetime.date.today().year - self.DOB.year"
   ]
  },
  {
   "cell_type": "code",
   "execution_count": 24,
   "metadata": {},
   "outputs": [
    {
     "name": "stdout",
     "output_type": "stream",
     "text": [
      "Rex\n",
      "8\n"
     ]
    }
   ],
   "source": [
    "dog1 = Dog('Rex', datetime.date(2015, 12, 25))\n",
    "\n",
    "print(dog1.name)\n",
    "print(dog1.age)"
   ]
  },
  {
   "cell_type": "markdown",
   "metadata": {},
   "source": [
    "## Custom Decorators"
   ]
  },
  {
   "cell_type": "markdown",
   "metadata": {},
   "source": [
    "### Using funtions"
   ]
  },
  {
   "cell_type": "markdown",
   "metadata": {},
   "source": [
    "We have the flexibility to craft custom decorators in Python. This involves passing a function to a nested wrapper, within which additional desired operations are executed, and ultimately returning the wrapper.\n",
    "\n",
    "In the provided code cell example, we define a benchmark decorator that gauges the execution time of any function using `perf_counter`.\n",
    "\n",
    "For further insights into the distinctions between `time` and `perf_counter`, you can refer to the [link](https://superfastpython.com/time-time-vs-time-perf_counter/).\n"
   ]
  },
  {
   "cell_type": "code",
   "execution_count": 9,
   "metadata": {},
   "outputs": [],
   "source": [
    "from time import sleep, perf_counter\n",
    "from typing import Any, Callable\n",
    "\n",
    "def benchmark(func: Callable[..., Any]) -> Callable[..., Any]:\n",
    "    def wrapper(*args: Any, **kwargs: Any):\n",
    "        start_time = perf_counter()\n",
    "        value = func(*args, **kwargs)\n",
    "        end_time = perf_counter()\n",
    "        run_time = end_time - start_time\n",
    "        print(f\"Execution of {func.__name__} took {run_time:.2f} seconds\")\n",
    "        return value\n",
    "    return wrapper"
   ]
  },
  {
   "cell_type": "markdown",
   "metadata": {},
   "source": [
    "To decorate a function, we simply invoke the decorator by adding the `@` symbol before the function's name. Python interprets this syntax as instructing it to pass the function to the decorator function and execute the modified function returned by the decorator."
   ]
  },
  {
   "cell_type": "code",
   "execution_count": 10,
   "metadata": {},
   "outputs": [
    {
     "name": "stdout",
     "output_type": "stream",
     "text": [
      "Execution of dummy_func took 1.00 seconds\n",
      "Execution of dummy_func took 2.00 seconds\n"
     ]
    }
   ],
   "source": [
    "@benchmark\n",
    "def dummy_func(t):\n",
    "    sleep(t)\n",
    "\n",
    "dummy_func(1)\n",
    "dummy_func(2)"
   ]
  },
  {
   "cell_type": "markdown",
   "metadata": {},
   "source": [
    "### Using Classes"
   ]
  },
  {
   "cell_type": "markdown",
   "metadata": {},
   "source": [
    "Decorators can be equally created with classes by using the `__call__` dunder as shown in the example below."
   ]
  },
  {
   "cell_type": "code",
   "execution_count": 4,
   "metadata": {},
   "outputs": [],
   "source": [
    "from time import sleep, perf_counter\n",
    "from typing import Any, Callable\n",
    "\n",
    "class benchmark:\n",
    "    def __init__(self, func: Callable[..., Any]) -> Callable[..., Any]:\n",
    "        self.func = func\n",
    "    def __call__(self, *args: Any, **kwargs: Any):\n",
    "        start_time = perf_counter()\n",
    "        value = self.func(*args, **kwargs)\n",
    "        end_time = perf_counter()\n",
    "        run_time = end_time - start_time\n",
    "        print(f\"Execution of {self.func.__name__} took {run_time:.2f} seconds\")\n",
    "        return value"
   ]
  },
  {
   "cell_type": "code",
   "execution_count": 5,
   "metadata": {},
   "outputs": [
    {
     "name": "stdout",
     "output_type": "stream",
     "text": [
      "Execution of dummy_func took 1.00 seconds\n",
      "Execution of dummy_func took 2.00 seconds\n"
     ]
    }
   ],
   "source": [
    "@benchmark\n",
    "def dummy_func(t):\n",
    "    sleep(t)\n",
    "\n",
    "dummy_func(1)\n",
    "dummy_func(2)"
   ]
  },
  {
   "cell_type": "markdown",
   "metadata": {},
   "source": [
    "### Decorators that take arguments"
   ]
  },
  {
   "cell_type": "markdown",
   "metadata": {},
   "source": [
    "When decorators need to accept arguments, a two-layered structure is employed. The outer layer serves as a parameterized function, accepting arguments relevant to the decorator's behavior. Within the outer function, an inner decorator function is defined, taking the target function as its argument. This inner decorator, often referred to as the \"wrapper\" function, encapsulates the logic for modifying or enhancing the behavior of the original function. The outer function, acting as a decorator factory, returns the inner decorator function. This two-layered approach enables the passing of arguments to the decorator when it is applied to a function using the @decorator_name(arg1, arg2) syntax. The outer layer manages the decorator's parameters, while the inner layer handles the actual decoration process. This structure provides a flexible and modular way to create decorators with customizable behavior."
   ]
  },
  {
   "cell_type": "code",
   "execution_count": 28,
   "metadata": {},
   "outputs": [],
   "source": [
    "from time import sleep, perf_counter\n",
    "from typing import Any, Callable\n",
    "\n",
    "def benchmark(pref='.2f'):\n",
    "    def outer_wrapper(func: Callable[..., Any]) -> Callable[..., Any]:\n",
    "        def inner_wrapper(*args: Any, **kwargs: Any):\n",
    "            start_time = perf_counter()\n",
    "            value = func(*args, **kwargs)\n",
    "            end_time = perf_counter()\n",
    "            run_time = end_time - start_time\n",
    "            print(f\"Execution of {func.__name__} took {run_time:{pref}} seconds\")\n",
    "            return value\n",
    "        return inner_wrapper\n",
    "    return outer_wrapper"
   ]
  },
  {
   "cell_type": "code",
   "execution_count": 33,
   "metadata": {},
   "outputs": [
    {
     "name": "stdout",
     "output_type": "stream",
     "text": [
      "Execution of dummy_func took 1 seconds\n",
      "Execution of dummy_func took 2 seconds\n"
     ]
    }
   ],
   "source": [
    "@benchmark('.0f')\n",
    "def dummy_func(t):\n",
    "    sleep(t)\n",
    "\n",
    "dummy_func(1)\n",
    "dummy_func(2)"
   ]
  },
  {
   "cell_type": "markdown",
   "metadata": {},
   "source": [
    "## `functools`"
   ]
  },
  {
   "cell_type": "markdown",
   "metadata": {},
   "source": [
    "### `@wraps`"
   ]
  },
  {
   "cell_type": "code",
   "execution_count": 9,
   "metadata": {},
   "outputs": [],
   "source": [
    "from time import sleep, perf_counter\n",
    "from typing import Any, Callable\n",
    "\n",
    "def benchmark(func: Callable[..., Any]) -> Callable[..., Any]:\n",
    "    def wrapper(*args: Any, **kwargs: Any):\n",
    "        start_time = perf_counter()\n",
    "        value = func(*args, **kwargs)\n",
    "        end_time = perf_counter()\n",
    "        run_time = end_time - start_time\n",
    "        print(f\"Execution of {func.__name__} took {run_time:.2f} seconds\")\n",
    "        return value\n",
    "    return wrapper\n",
    "\n",
    "def funclog(func: Callable[..., Any]) -> Callable[..., Any]:\n",
    "    def wrapper(*args: Any, **kwargs: Any):\n",
    "        print(f\"{func.__name__} executed with {*args, *kwargs}\")\n",
    "        return func(*args, **kwargs)\n",
    "    return wrapper"
   ]
  },
  {
   "cell_type": "markdown",
   "metadata": {},
   "source": [
    "When stacking we loose the nameWhen stacking multiple decorators, there is a risk of losing the original function's metadata, including its name, docstring, and other attributes. This can happen because each decorator introduces a new layer of wrapping."
   ]
  },
  {
   "cell_type": "code",
   "execution_count": 10,
   "metadata": {},
   "outputs": [
    {
     "name": "stdout",
     "output_type": "stream",
     "text": [
      "wrapper executed with (1,)\n",
      "Execution of dummy_func took 1.00 seconds\n",
      "wrapper executed with (2,)\n",
      "Execution of dummy_func took 2.00 seconds\n"
     ]
    }
   ],
   "source": [
    "@funclog\n",
    "@benchmark\n",
    "def dummy_func(t):\n",
    "    sleep(t)\n",
    "\n",
    "dummy_func(1)\n",
    "dummy_func(2)"
   ]
  },
  {
   "cell_type": "markdown",
   "metadata": {},
   "source": [
    "By using @wraps from the functools module, we ensure that the innermost wrapper in the decorator stack retains the identity and documentation of the original function. This is crucial for maintaining clarity in code and debugging, as the function's name and docstring are essential pieces of information for developers."
   ]
  },
  {
   "cell_type": "code",
   "execution_count": 11,
   "metadata": {},
   "outputs": [],
   "source": [
    "from time import sleep, perf_counter\n",
    "from typing import Any, Callable\n",
    "from functools import wraps\n",
    "\n",
    "def benchmark(func: Callable[..., Any]) -> Callable[..., Any]:\n",
    "    @wraps(func)\n",
    "    def wrapper(*args: Any, **kwargs: Any):\n",
    "        start_time = perf_counter()\n",
    "        value = func(*args, **kwargs)\n",
    "        end_time = perf_counter()\n",
    "        run_time = end_time - start_time\n",
    "        print(f\"Execution of {func.__name__} took {run_time:.2f} seconds\")\n",
    "        return value\n",
    "    return wrapper\n",
    "\n",
    "def funclog(func: Callable[..., Any]) -> Callable[..., Any]:\n",
    "    @wraps(func)\n",
    "    def wrapper(*args: Any, **kwargs: Any):\n",
    "        print(f\"{func.__name__} executed with {*args, *kwargs}\")\n",
    "        return func(*args, **kwargs)\n",
    "    return wrapper"
   ]
  },
  {
   "cell_type": "code",
   "execution_count": 12,
   "metadata": {},
   "outputs": [
    {
     "name": "stdout",
     "output_type": "stream",
     "text": [
      "dummy_func executed with (1,)\n",
      "Execution of dummy_func took 1.00 seconds\n",
      "dummy_func executed with (2,)\n",
      "Execution of dummy_func took 2.00 seconds\n"
     ]
    }
   ],
   "source": [
    "@funclog\n",
    "@benchmark\n",
    "def dummy_func(t):\n",
    "    sleep(t)\n",
    "\n",
    "dummy_func(1)\n",
    "dummy_func(2)"
   ]
  },
  {
   "cell_type": "markdown",
   "metadata": {},
   "source": [
    "### `@cache`"
   ]
  },
  {
   "cell_type": "markdown",
   "metadata": {},
   "source": [
    "The @cache decorator from the functools module in Python is used to memoize or cache the results of a function, preventing redundant computations for repeated calls with the same arguments.\n",
    "\n",
    "In the example below, applying `@cache` resulted in the first execution taking 3 seconds, while the second and third executions were completed instantaneously."
   ]
  },
  {
   "cell_type": "code",
   "execution_count": 15,
   "metadata": {},
   "outputs": [
    {
     "name": "stdout",
     "output_type": "stream",
     "text": [
      "Execution of dummy_func took 3.00 seconds\n",
      "5\n",
      "Execution of dummy_func took 0.00 seconds\n",
      "5\n",
      "Execution of dummy_func took 0.00 seconds\n",
      "5\n"
     ]
    }
   ],
   "source": [
    "from functools import cache\n",
    "\n",
    "@benchmark\n",
    "@cache\n",
    "def dummy_func(t):\n",
    "    sleep(t)\n",
    "    return 5\n",
    "\n",
    "print(dummy_func(3))\n",
    "print(dummy_func(3))\n",
    "print(dummy_func(3))"
   ]
  },
  {
   "cell_type": "markdown",
   "metadata": {},
   "source": [
    "## `@dataclass`"
   ]
  },
  {
   "cell_type": "markdown",
   "metadata": {},
   "source": [
    "`dataclasses` is a module in Python that provides a decorator and functions to automatically add special methods such as __init__ and __repr__ to user-defined classes. The primary goal of dataclasses is to simplify the creation of classes that primarily store data by reducing boilerplate code.\n",
    "\n",
    "By decorating a class with `@dataclass`, you can automatically generate common special methods and reduce the amount of code you need to write. This includes the initialization method (__init__), representation method (__repr__), comparison methods (__eq__, __ne__, etc.), and more."
   ]
  },
  {
   "cell_type": "markdown",
   "metadata": {},
   "source": [
    "### Example 1: `slots=True`"
   ]
  },
  {
   "cell_type": "code",
   "execution_count": 1,
   "metadata": {},
   "outputs": [],
   "source": [
    "from dataclasses import dataclass, field\n",
    "import string\n",
    "import random\n",
    "\n",
    "def generate_id(k=12):\n",
    "    return \"\".join(random.choices(string.printable[:62]+string.printable[:10], k=k))\n",
    "\n",
    "@dataclass(kw_only=False, slots=True)\n",
    "class Employee:\n",
    "    name: str\n",
    "    address: str\n",
    "    active: bool = True\n",
    "    emails: list[str] = field(default_factory=list)\n",
    "    id: str = field(init=False, default_factory=generate_id)\n",
    "    __salary: int = field(default=None, repr=False)"
   ]
  },
  {
   "cell_type": "code",
   "execution_count": 2,
   "metadata": {},
   "outputs": [],
   "source": [
    "emp1 = Employee('John Smith', 'London', _Employee__salary=100_000)"
   ]
  },
  {
   "cell_type": "markdown",
   "metadata": {},
   "source": [
    "In the example above, we used `slots=True`. This will create a `__slots__` attribute which is an optimization feature that can be used with data classes to provide memory efficiency and faster attribute access. However, no `__dict__` attribute will be created."
   ]
  },
  {
   "cell_type": "code",
   "execution_count": 5,
   "metadata": {},
   "outputs": [
    {
     "name": "stdout",
     "output_type": "stream",
     "text": [
      "('name', 'address', 'active', 'emails', 'id', '_Employee__salary')\n"
     ]
    }
   ],
   "source": [
    "print(emp1.__slots__)\n",
    "# emp1.__dict__  # Raises AttributeError because __dict__ is not present"
   ]
  },
  {
   "cell_type": "markdown",
   "metadata": {},
   "source": [
    "Using slots, an attribute can still be accessed an changed."
   ]
  },
  {
   "cell_type": "code",
   "execution_count": 7,
   "metadata": {},
   "outputs": [
    {
     "name": "stdout",
     "output_type": "stream",
     "text": [
      "50000\n"
     ]
    }
   ],
   "source": [
    "emp1._Employee__salary = 50_000\n",
    "print(emp1._Employee__salary)"
   ]
  },
  {
   "cell_type": "markdown",
   "metadata": {},
   "source": [
    "However, we cannot create new attributes using slots."
   ]
  },
  {
   "cell_type": "code",
   "execution_count": 8,
   "metadata": {},
   "outputs": [
    {
     "ename": "AttributeError",
     "evalue": "'Employee' object has no attribute 'sex'",
     "output_type": "error",
     "traceback": [
      "\u001b[1;31m---------------------------------------------------------------------------\u001b[0m",
      "\u001b[1;31mAttributeError\u001b[0m                            Traceback (most recent call last)",
      "Cell \u001b[1;32mIn[8], line 1\u001b[0m\n\u001b[1;32m----> 1\u001b[0m \u001b[43memp1\u001b[49m\u001b[38;5;241;43m.\u001b[39;49m\u001b[43msex\u001b[49m \u001b[38;5;241m=\u001b[39m \u001b[38;5;124m'\u001b[39m\u001b[38;5;124mmale\u001b[39m\u001b[38;5;124m'\u001b[39m\n",
      "\u001b[1;31mAttributeError\u001b[0m: 'Employee' object has no attribute 'sex'"
     ]
    }
   ],
   "source": [
    "emp1.sex = 'male'"
   ]
  },
  {
   "cell_type": "markdown",
   "metadata": {},
   "source": [
    "`dataclass` will create a `__repr__` method to display the class instances."
   ]
  },
  {
   "cell_type": "code",
   "execution_count": 6,
   "metadata": {},
   "outputs": [
    {
     "name": "stdout",
     "output_type": "stream",
     "text": [
      "Employee(name='John Smith', address='London', active=True, emails=[], id='WPmDZLdHqDvu')\n"
     ]
    }
   ],
   "source": [
    "print(emp1)"
   ]
  },
  {
   "cell_type": "markdown",
   "metadata": {},
   "source": [
    "### Example 2: `frozen=True`"
   ]
  },
  {
   "cell_type": "markdown",
   "metadata": {},
   "source": [
    "In Python's dataclasses module, the `frozen` parameter is a feature that can be set to `True` when defining a data class. When a data class is marked as `frozen=True`, it means that instances of the class become immutable, and the values of their attributes cannot be changed after creation."
   ]
  },
  {
   "cell_type": "code",
   "execution_count": 9,
   "metadata": {},
   "outputs": [],
   "source": [
    "from dataclasses import dataclass\n",
    "\n",
    "@dataclass(frozen=True)\n",
    "class Person:\n",
    "    name: str\n",
    "    address: str"
   ]
  },
  {
   "cell_type": "code",
   "execution_count": 10,
   "metadata": {},
   "outputs": [],
   "source": [
    "person1 = Person('John Doe', 'London')\n",
    "print(person1)"
   ]
  },
  {
   "cell_type": "markdown",
   "metadata": {},
   "source": [
    "As we can see in the below example, we cannot change the `address` attribute after creation."
   ]
  },
  {
   "cell_type": "code",
   "execution_count": 12,
   "metadata": {},
   "outputs": [
    {
     "ename": "FrozenInstanceError",
     "evalue": "cannot assign to field 'address'",
     "output_type": "error",
     "traceback": [
      "\u001b[1;31m---------------------------------------------------------------------------\u001b[0m",
      "\u001b[1;31mFrozenInstanceError\u001b[0m                       Traceback (most recent call last)",
      "Cell \u001b[1;32mIn[12], line 1\u001b[0m\n\u001b[1;32m----> 1\u001b[0m \u001b[43mperson1\u001b[49m\u001b[38;5;241;43m.\u001b[39;49m\u001b[43maddress\u001b[49m\u001b[38;5;241m=\u001b[39m\u001b[38;5;124m'\u001b[39m\u001b[38;5;124mParis\u001b[39m\u001b[38;5;124m'\u001b[39m\n",
      "File \u001b[1;32m<string>:4\u001b[0m, in \u001b[0;36m__setattr__\u001b[1;34m(self, name, value)\u001b[0m\n",
      "\u001b[1;31mFrozenInstanceError\u001b[0m: cannot assign to field 'address'"
     ]
    }
   ],
   "source": [
    "person1.address='Paris'"
   ]
  },
  {
   "cell_type": "markdown",
   "metadata": {},
   "source": [
    "While data classes with `frozen=True` provide immutability for the automatically generated methods, it's important to note that the immutability is not enforced at a low level. If someone deliberately uses `object.__setattr__` to modify the attributes, they can bypass the immutability, as shown below."
   ]
  },
  {
   "cell_type": "code",
   "execution_count": 50,
   "metadata": {},
   "outputs": [
    {
     "name": "stdout",
     "output_type": "stream",
     "text": [
      "Person(name='John Doe', address='Paris')\n"
     ]
    }
   ],
   "source": [
    "object.__setattr__(person1, 'address', 'Paris')\n",
    "print(person1)"
   ]
  },
  {
   "cell_type": "markdown",
   "metadata": {},
   "source": [
    "### Example 3: `order=True`"
   ]
  },
  {
   "cell_type": "markdown",
   "metadata": {},
   "source": [
    "If `True` (the default is `False`), `__lt__()`, `__le__()`, `__gt__()`, and `__ge__()` methods will be generated. These compare the class as if it were a tuple of its fields, in order. Both instances in the comparison must be of the identical type. If order is true and eq is false, a ValueError is raised."
   ]
  },
  {
   "cell_type": "code",
   "execution_count": 32,
   "metadata": {},
   "outputs": [],
   "source": [
    "from dataclasses import dataclass\n",
    "\n",
    "@dataclass(order=True)\n",
    "class Monster:\n",
    "    name: str\n",
    "    strength: int"
   ]
  },
  {
   "cell_type": "code",
   "execution_count": 33,
   "metadata": {},
   "outputs": [
    {
     "name": "stdout",
     "output_type": "stream",
     "text": [
      "Monster(name='Gremlin', strength=100.0)\n",
      "Monster(name='Ork', strength=50.0)\n",
      "False\n"
     ]
    }
   ],
   "source": [
    "grem = Monster('Gremlin', 100)\n",
    "ork = Monster('Ork', 50)\n",
    "\n",
    "print(grem)\n",
    "print(ork)\n",
    "print(grem>ork)"
   ]
  },
  {
   "cell_type": "markdown",
   "metadata": {},
   "source": [
    "In the example above, we realize that `grem` is not `>` than `ork`. This is because the `>` sign is comparing the string 'Gremlin' to the string 'Ork' (`'Gremlin'>'ork'`).\n",
    "\n",
    "In general, **the comparison will be done on the first attribute of the dataclass**. A good practice then is to create a `sort_index` as the first attribute, to which we affect the desired value that should be used for order.\n",
    "\n",
    "The value of `sort_index` is assigned **'post_init'** using the `__post_init__` dunder."
   ]
  },
  {
   "cell_type": "code",
   "execution_count": 40,
   "metadata": {},
   "outputs": [],
   "source": [
    "@dataclass(order=True)\n",
    "class Monster:\n",
    "    sort_index: int = field(init=False, repr=False) # will be used for ordering\n",
    "    name: str\n",
    "    strength: int\n",
    "    \n",
    "    def __post_init__(self):\n",
    "        self.sort_index = self.strength"
   ]
  },
  {
   "cell_type": "code",
   "execution_count": 41,
   "metadata": {},
   "outputs": [
    {
     "name": "stdout",
     "output_type": "stream",
     "text": [
      "Monster(name='Gremlin', strength=100)\n",
      "Monster(name='Ork', strength=50)\n",
      "True\n"
     ]
    }
   ],
   "source": [
    "grem = Monster('Gremlin', 100)\n",
    "ork = Monster('Ork', 50)\n",
    "\n",
    "print(grem)\n",
    "print(ork)\n",
    "print(grem>ork)"
   ]
  },
  {
   "cell_type": "markdown",
   "metadata": {},
   "source": [
    "### Example 4: `order=True`, `frozen=True`"
   ]
  },
  {
   "cell_type": "markdown",
   "metadata": {},
   "source": [
    "If we want to mark the `dataclass` with `order=True` and `frozen=True`, we can always set the `sort_index` attribute post-creation by using the `objet.__setattr__` in `__post_init__`, as shown below."
   ]
  },
  {
   "cell_type": "code",
   "execution_count": 47,
   "metadata": {},
   "outputs": [],
   "source": [
    "@dataclass(order=True, frozen=True)\n",
    "class Monster:\n",
    "    sort_index: int = field(init=False, repr=False)\n",
    "    name: str\n",
    "    strength: int\n",
    "    \n",
    "    def __post_init__(self):\n",
    "        object.__setattr__(self, 'sort_index', self.strength)"
   ]
  },
  {
   "cell_type": "code",
   "execution_count": 48,
   "metadata": {},
   "outputs": [
    {
     "name": "stdout",
     "output_type": "stream",
     "text": [
      "Monster(name='Gremlin', strength=100)\n",
      "Monster(name='Ork', strength=50)\n",
      "True\n"
     ]
    }
   ],
   "source": [
    "grem = Monster('Gremlin', 100)\n",
    "ork = Monster('Ork', 50)\n",
    "\n",
    "print(grem)\n",
    "print(ork)\n",
    "print(grem>ork)"
   ]
  },
  {
   "cell_type": "code",
   "execution_count": 49,
   "metadata": {},
   "outputs": [
    {
     "ename": "FrozenInstanceError",
     "evalue": "cannot assign to field 'name'",
     "output_type": "error",
     "traceback": [
      "\u001b[1;31m---------------------------------------------------------------------------\u001b[0m",
      "\u001b[1;31mFrozenInstanceError\u001b[0m                       Traceback (most recent call last)",
      "Cell \u001b[1;32mIn[49], line 1\u001b[0m\n\u001b[1;32m----> 1\u001b[0m \u001b[43mgrem\u001b[49m\u001b[38;5;241;43m.\u001b[39;49m\u001b[43mname\u001b[49m \u001b[38;5;241m=\u001b[39m \u001b[38;5;124m'\u001b[39m\u001b[38;5;124mDragon\u001b[39m\u001b[38;5;124m'\u001b[39m\n",
      "File \u001b[1;32m<string>:4\u001b[0m, in \u001b[0;36m__setattr__\u001b[1;34m(self, name, value)\u001b[0m\n",
      "\u001b[1;31mFrozenInstanceError\u001b[0m: cannot assign to field 'name'"
     ]
    }
   ],
   "source": [
    "grem.name = 'Dragon'"
   ]
  }
 ],
 "metadata": {
  "kernelspec": {
   "display_name": "Python 3",
   "language": "python",
   "name": "python3"
  },
  "language_info": {
   "codemirror_mode": {
    "name": "ipython",
    "version": 3
   },
   "file_extension": ".py",
   "mimetype": "text/x-python",
   "name": "python",
   "nbconvert_exporter": "python",
   "pygments_lexer": "ipython3",
   "version": "3.11.4"
  }
 },
 "nbformat": 4,
 "nbformat_minor": 2
}
