{
 "cells": [
  {
   "cell_type": "markdown",
   "metadata": {},
   "source": [
    "# functions"
   ]
  },
  {
   "cell_type": "markdown",
   "metadata": {},
   "source": [
    "## First-class funtions"
   ]
  },
  {
   "cell_type": "markdown",
   "metadata": {},
   "source": [
    "Functions in python are first class functions meaning that they can be treated like any other variable. This includes functions being passed as an argument to other functions, returned by another function and assigned as a value to a variable.\n",
    "\n",
    "Let us first start by assigning a dummy function `Hello_World` to see how that works."
   ]
  },
  {
   "cell_type": "code",
   "execution_count": 3,
   "metadata": {},
   "outputs": [],
   "source": [
    "def Hello_World():\n",
    "    print('Hello World')"
   ]
  },
  {
   "cell_type": "markdown",
   "metadata": {},
   "source": [
    "To execute a function in python, the function must me called with parentheses."
   ]
  },
  {
   "cell_type": "code",
   "execution_count": 4,
   "metadata": {},
   "outputs": [
    {
     "name": "stdout",
     "output_type": "stream",
     "text": [
      "Hello World\n"
     ]
    }
   ],
   "source": [
    "Hello_World()"
   ]
  },
  {
   "cell_type": "markdown",
   "metadata": {},
   "source": [
    "Without parenteses, the function is passed as an object instead."
   ]
  },
  {
   "cell_type": "code",
   "execution_count": 5,
   "metadata": {},
   "outputs": [
    {
     "data": {
      "text/plain": [
       "<function __main__.Hello_World()>"
      ]
     },
     "execution_count": 5,
     "metadata": {},
     "output_type": "execute_result"
    }
   ],
   "source": [
    "Hello_World"
   ]
  },
  {
   "cell_type": "markdown",
   "metadata": {},
   "source": [
    "The function can be assigned to another variable."
   ]
  },
  {
   "cell_type": "code",
   "execution_count": 7,
   "metadata": {},
   "outputs": [
    {
     "name": "stdout",
     "output_type": "stream",
     "text": [
      "<function Hello_World at 0x000001DDD1D3B1A0>\n",
      "<function Hello_World at 0x000001DDD1D3B1A0>\n",
      "Hello World\n"
     ]
    }
   ],
   "source": [
    "func = Hello_World\n",
    "\n",
    "print(Hello_World)\n",
    "print(func)\n",
    "\n",
    "func()"
   ]
  },
  {
   "cell_type": "markdown",
   "metadata": {},
   "source": [
    "We see that now both `Hello_World` and `func` point towards the same object. And now, we can execute `func` by typing `func()`.\n",
    "\n",
    "Let us now define a simple function `square` which computes the square of a number."
   ]
  },
  {
   "cell_type": "code",
   "execution_count": 8,
   "metadata": {},
   "outputs": [],
   "source": [
    "def square(x):\n",
    "    return x**2"
   ]
  },
  {
   "cell_type": "markdown",
   "metadata": {},
   "source": [
    "Now let us create a 'wrapper' function `my_map`, which takes any function `func` and iterable object `L` as input and tries to apply the function `func` to the elements of `L`."
   ]
  },
  {
   "cell_type": "code",
   "execution_count": 9,
   "metadata": {},
   "outputs": [],
   "source": [
    "def my_map(func, L):\n",
    "    results = []\n",
    "    for i in L:\n",
    "        results.append(func(i))\n",
    "    return results"
   ]
  },
  {
   "cell_type": "markdown",
   "metadata": {},
   "source": [
    "Python has a built-in function `map` that does the same thing. So let us test our code."
   ]
  },
  {
   "cell_type": "code",
   "execution_count": 35,
   "metadata": {},
   "outputs": [
    {
     "name": "stdout",
     "output_type": "stream",
     "text": [
      "[0, 1, 4, 9, 16]\n",
      "<map object at 0x000001DDD1D9A470>\n",
      "[0, 1, 4, 9, 16]\n"
     ]
    }
   ],
   "source": [
    "x_squared = my_map(square, range(5))\n",
    "print(x_squared)\n",
    "\n",
    "x_squared = map(square, range(5))\n",
    "# map returns a map object\n",
    "print(x_squared)\n",
    "# we can cast into a list to print it\n",
    "print(list(x_squared))\n",
    "# or we can equally unpack it to display it\n",
    "# print(*x_squared)"
   ]
  },
  {
   "cell_type": "markdown",
   "metadata": {},
   "source": [
    "We see that the function `my_map` took the function `square` as an input and only applied the function to each elemet of the list `L` inside the loop."
   ]
  },
  {
   "cell_type": "markdown",
   "metadata": {},
   "source": [
    "Okay great! Now, let us do a bit more complex stuff. Let's do some function composition!\n",
    "\n",
    "Function composition is an operation ($\\circ$) that takes two functions $f$ and $g$, and produces a function $h = g ∘ f$ such that $h(x) = g(f(x))$. In this operation, the function $g$ is applied to the result of applying the function $f$ to $x$.\n",
    "\n",
    "In the next code cell, we will create a function `compose` which takes two functions `f` and `g` and returns a new function `h`, which is the composition of both.\n",
    "\n",
    "In order to do so, we need to use a `lambda` function, which are user defined functions but without a name. The `lambda` function creates a function `h` that takes arbitrary arguments `*args`, applies `f`, then applies `g` on `f`'s output. **(Sorry for this sudden and abrupt jump in concepts)**"
   ]
  },
  {
   "cell_type": "code",
   "execution_count": 48,
   "metadata": {},
   "outputs": [],
   "source": [
    "def compose(f, g):\n",
    "    h = lambda *args: g(f(*args))\n",
    "    return h"
   ]
  },
  {
   "cell_type": "code",
   "execution_count": 49,
   "metadata": {},
   "outputs": [
    {
     "data": {
      "text/plain": [
       "16"
      ]
     },
     "execution_count": 49,
     "metadata": {},
     "output_type": "execute_result"
    }
   ],
   "source": [
    "h = compose(square, square)\n",
    "h(2)"
   ]
  },
  {
   "cell_type": "markdown",
   "metadata": {},
   "source": [
    "In the previous code cells, we just composed `square` onto itself. We see that `h(2)` returns `16`, which is none other than $$h(2) = g(f(2))= g(2^2)=4^2=16$$ "
   ]
  },
  {
   "cell_type": "markdown",
   "metadata": {},
   "source": [
    "The compose code script was inspired by the code in [this link](https://www.quora.com/How-can-I-use-a-function-output-as-an-input-of-another-function-in-Python).\n",
    "\n",
    "The code is copy pasted below for safe-keeping"
   ]
  },
  {
   "cell_type": "code",
   "execution_count": 57,
   "metadata": {},
   "outputs": [
    {
     "name": "stdout",
     "output_type": "stream",
     "text": [
      "<function <lambda>.<locals>.<lambda>.<locals>.<lambda> at 0x000001DDD1D38220>\n",
      "16\n",
      "16\n"
     ]
    }
   ],
   "source": [
    "# the order of f1 and f2 is not important as long as they are created before being used by the last lambda function\n",
    "compose = lambda f1: lambda f2: lambda *args, **kwargs: f1(f2(*args, **kwargs))\n",
    "\n",
    "h = compose(square)(square)\n",
    "print(h)\n",
    "\n",
    "value = compose(square)(square)(2)\n",
    "print(h(2))\n",
    "print(value)"
   ]
  },
  {
   "cell_type": "markdown",
   "metadata": {},
   "source": [
    "## Closures"
   ]
  },
  {
   "cell_type": "markdown",
   "metadata": {},
   "source": [
    "Python closure is a nested function that allows us to access variables of the outer function even after the outer function is closed.\n",
    "\n",
    "In the example below, the inner function `wrap_text` is nested in an outer function `html_tag`.\n",
    "`wrap_text` takes a `text` and then wraps it with the HTML `tag`. Notice that `wrap_text` takes only one input `text` and does not take any `tag` input. It is `html_tag` that takes a `tag` input. However, `wrap_text` has access to the `html_tag` locals, since it is created within the locals stack of `html_tag`. This can be seen in the `wrap_text` function print `html_tag.<locals>.wrap_text`."
   ]
  },
  {
   "cell_type": "code",
   "execution_count": 58,
   "metadata": {},
   "outputs": [],
   "source": [
    "def html_tag(tag):\n",
    "    \n",
    "    def wrap_text(text):\n",
    "        print('<{0}>{1}</{0}>'.format(tag, text))\n",
    "    \n",
    "    return wrap_text"
   ]
  },
  {
   "cell_type": "markdown",
   "metadata": {},
   "source": [
    "Notice `html_tag` does not execute `wrap_text`. It 'sets up' its `tag` and then returns it."
   ]
  },
  {
   "cell_type": "code",
   "execution_count": 59,
   "metadata": {},
   "outputs": [
    {
     "name": "stdout",
     "output_type": "stream",
     "text": [
      "<function html_tag.<locals>.wrap_text at 0x000001DDD2409580>\n",
      "<function html_tag.<locals>.wrap_text at 0x000001DDD2409620>\n"
     ]
    }
   ],
   "source": [
    "header1 = html_tag('h1')\n",
    "paragraph = html_tag('p')\n",
    "print(header1)\n",
    "print(paragraph)"
   ]
  },
  {
   "cell_type": "markdown",
   "metadata": {},
   "source": [
    "Now `header1` and `paragraph` are two functions which can be executed. `header1` wraps `text` with the `<h1>...</h1>`, while `paragraph` wraps `text` with `<p>...</p>`. Notice, even after the `html_tag` function is executed, `header1` and `paragraph` still have access to the `tag` values with which `html_tag` was executed."
   ]
  },
  {
   "cell_type": "code",
   "execution_count": 61,
   "metadata": {},
   "outputs": [
    {
     "name": "stdout",
     "output_type": "stream",
     "text": [
      "<h1>HTML h1 wrap</h1>\n",
      "<p>HTML p wrap</p>\n"
     ]
    }
   ],
   "source": [
    "header1('HTML h1 wrap')\n",
    "paragraph('HTML p wrap')"
   ]
  },
  {
   "cell_type": "markdown",
   "metadata": {},
   "source": [
    "The closure allows for various useful applications.\n",
    "\n",
    "In the code cells below, closure allows for code reduction, where we create various power function `sqrt`, `square`, and `cube` by simply calling the `pow` function with the different correponding power `n`"
   ]
  },
  {
   "cell_type": "code",
   "execution_count": 63,
   "metadata": {},
   "outputs": [],
   "source": [
    "def pow(n):\n",
    "    \n",
    "    def pow_func(x):\n",
    "        return x**n\n",
    "    \n",
    "    return pow_func"
   ]
  },
  {
   "cell_type": "code",
   "execution_count": 65,
   "metadata": {},
   "outputs": [
    {
     "name": "stdout",
     "output_type": "stream",
     "text": [
      "2.0\n",
      "36\n",
      "125\n"
     ]
    }
   ],
   "source": [
    "sqrt = pow(.5)\n",
    "square = pow(2)\n",
    "cube = pow(3)\n",
    "\n",
    "print(sqrt(4))\n",
    "print(square(6))\n",
    "print(cube(5))"
   ]
  },
  {
   "cell_type": "markdown",
   "metadata": {},
   "source": [
    "## Input arguments"
   ]
  },
  {
   "cell_type": "markdown",
   "metadata": {},
   "source": [
    "## Various arguments combinations and behavior"
   ]
  },
  {
   "cell_type": "markdown",
   "metadata": {},
   "source": [
    "### `n, *args`"
   ]
  },
  {
   "cell_type": "code",
   "execution_count": 28,
   "metadata": {},
   "outputs": [],
   "source": [
    "def test(n, *args):\n",
    "    print(n)\n",
    "    print(args)"
   ]
  },
  {
   "cell_type": "code",
   "execution_count": 29,
   "metadata": {},
   "outputs": [
    {
     "name": "stdout",
     "output_type": "stream",
     "text": [
      "1\n",
      "('i', 'j')\n"
     ]
    }
   ],
   "source": [
    "test(1, 'i', 'j')"
   ]
  },
  {
   "cell_type": "markdown",
   "metadata": {},
   "source": [
    "### `*args, n`"
   ]
  },
  {
   "cell_type": "code",
   "execution_count": 32,
   "metadata": {},
   "outputs": [],
   "source": [
    "def test(*args, n):\n",
    "    print(n)\n",
    "    print(args)"
   ]
  },
  {
   "cell_type": "code",
   "execution_count": 35,
   "metadata": {},
   "outputs": [
    {
     "name": "stdout",
     "output_type": "stream",
     "text": [
      "5\n",
      "(1, 'i', 'j')\n"
     ]
    }
   ],
   "source": [
    "test(1, 'i', 'j', n=5)"
   ]
  },
  {
   "cell_type": "markdown",
   "metadata": {},
   "source": [
    "### `n, **kwargs`"
   ]
  },
  {
   "cell_type": "code",
   "execution_count": 27,
   "metadata": {},
   "outputs": [],
   "source": [
    "def test(n, **kwargs):\n",
    "    print(n)\n",
    "    print(kwargs)"
   ]
  },
  {
   "cell_type": "code",
   "execution_count": 24,
   "metadata": {},
   "outputs": [
    {
     "name": "stdout",
     "output_type": "stream",
     "text": [
      "1\n",
      "{'i': 'i', 'j': 'j'}\n"
     ]
    }
   ],
   "source": [
    "test(1, i='i',j='j')"
   ]
  },
  {
   "cell_type": "code",
   "execution_count": 25,
   "metadata": {},
   "outputs": [
    {
     "name": "stdout",
     "output_type": "stream",
     "text": [
      "1\n",
      "{'i': 'i', 'j': 'j'}\n"
     ]
    }
   ],
   "source": [
    "test(n=1, i='i',j='j')"
   ]
  },
  {
   "cell_type": "code",
   "execution_count": 26,
   "metadata": {},
   "outputs": [
    {
     "name": "stdout",
     "output_type": "stream",
     "text": [
      "1\n",
      "{'i': 'i', 'j': 'j'}\n"
     ]
    }
   ],
   "source": [
    "test(i='i',j='j', n=1)"
   ]
  },
  {
   "cell_type": "markdown",
   "metadata": {},
   "source": [
    "### `n, *args, **kwargs`"
   ]
  },
  {
   "cell_type": "code",
   "execution_count": 1,
   "metadata": {},
   "outputs": [],
   "source": [
    "def test(n ,*args, **kwargs):\n",
    "    print(n)\n",
    "    print(args)\n",
    "    print(kwargs)"
   ]
  },
  {
   "cell_type": "code",
   "execution_count": 6,
   "metadata": {},
   "outputs": [
    {
     "name": "stdout",
     "output_type": "stream",
     "text": [
      "1\n",
      "(2, 3, 4)\n",
      "{'i': 'i', 'j': 'j'}\n"
     ]
    }
   ],
   "source": [
    "test(1, 2, 3, 4, i='i',j='j')"
   ]
  },
  {
   "cell_type": "markdown",
   "metadata": {},
   "source": [
    "### `*args, n, **kwargs`"
   ]
  },
  {
   "cell_type": "code",
   "execution_count": 7,
   "metadata": {},
   "outputs": [],
   "source": [
    "def test(*args, n, **kwargs):\n",
    "    print(n)\n",
    "    print(args)\n",
    "    print(kwargs)"
   ]
  },
  {
   "cell_type": "code",
   "execution_count": 9,
   "metadata": {},
   "outputs": [
    {
     "name": "stdout",
     "output_type": "stream",
     "text": [
      "5\n",
      "(1, 2, 3, 4)\n",
      "{'i': 'i', 'j': 'j'}\n"
     ]
    }
   ],
   "source": [
    "test(1, 2, 3, 4, n=5, i='i',j='j')"
   ]
  },
  {
   "cell_type": "code",
   "execution_count": 10,
   "metadata": {},
   "outputs": [
    {
     "name": "stdout",
     "output_type": "stream",
     "text": [
      "5\n",
      "(1, 2, 3, 4)\n",
      "{'i': 'i', 'j': 'j'}\n"
     ]
    }
   ],
   "source": [
    "test(1, 2, 3, 4, i='i', n=5, j='j')"
   ]
  },
  {
   "cell_type": "code",
   "execution_count": 11,
   "metadata": {},
   "outputs": [
    {
     "name": "stdout",
     "output_type": "stream",
     "text": [
      "5\n",
      "(1, 2, 3, 4)\n",
      "{'i': 'i', 'j': 'j'}\n"
     ]
    }
   ],
   "source": [
    "test(1, 2, 3, 4, i='i', j='j', n=5)"
   ]
  },
  {
   "cell_type": "markdown",
   "metadata": {},
   "source": [
    "### `*args, **kwargs`"
   ]
  },
  {
   "cell_type": "code",
   "execution_count": 13,
   "metadata": {},
   "outputs": [],
   "source": [
    "def test(*args, **kwargs):\n",
    "    print(args)\n",
    "    print(kwargs)"
   ]
  },
  {
   "cell_type": "code",
   "execution_count": 14,
   "metadata": {},
   "outputs": [
    {
     "name": "stdout",
     "output_type": "stream",
     "text": [
      "(1, 2, 3, 4)\n",
      "{'i': 'i', 'j': 'j', 'n': 5}\n"
     ]
    }
   ],
   "source": [
    "test(1, 2, 3, 4, i='i', j='j', n=5)"
   ]
  },
  {
   "cell_type": "markdown",
   "metadata": {},
   "source": [
    "### `n, *args, m, **kwargs`"
   ]
  },
  {
   "cell_type": "code",
   "execution_count": 15,
   "metadata": {},
   "outputs": [],
   "source": [
    "def test(n, *args, m, **kwargs):\n",
    "    print(n)\n",
    "    print(m)\n",
    "    print(args)\n",
    "    print(kwargs)"
   ]
  },
  {
   "cell_type": "code",
   "execution_count": 19,
   "metadata": {},
   "outputs": [
    {
     "name": "stdout",
     "output_type": "stream",
     "text": [
      "1\n",
      "5\n",
      "(2, 3, 4)\n",
      "{'i': 'i', 'j': 'j'}\n"
     ]
    }
   ],
   "source": [
    "test(1, 2, 3, 4, i='i', j='j', m=5)"
   ]
  }
 ],
 "metadata": {
  "kernelspec": {
   "display_name": "Python 3",
   "language": "python",
   "name": "python3"
  },
  "language_info": {
   "codemirror_mode": {
    "name": "ipython",
    "version": 3
   },
   "file_extension": ".py",
   "mimetype": "text/x-python",
   "name": "python",
   "nbconvert_exporter": "python",
   "pygments_lexer": "ipython3",
   "version": "3.11.4"
  }
 },
 "nbformat": 4,
 "nbformat_minor": 2
}
