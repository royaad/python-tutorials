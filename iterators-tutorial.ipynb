{
 "cells": [
  {
   "cell_type": "markdown",
   "metadata": {},
   "source": [
    "# Iterators"
   ]
  },
  {
   "cell_type": "markdown",
   "metadata": {},
   "source": [
    "We will first create a small function to cleanly print out our class methods."
   ]
  },
  {
   "cell_type": "code",
   "execution_count": 1,
   "metadata": {},
   "outputs": [],
   "source": [
    "def print_dir(obj: object, line_length=7):\n",
    "    s = ''\n",
    "    for it, ele in enumerate(dir(obj)):\n",
    "        s += ele+', '\n",
    "        if it%8 == line_length:\n",
    "            s += '\\n'\n",
    "    print(s)"
   ]
  },
  {
   "cell_type": "markdown",
   "metadata": {},
   "source": [
    "## Iterables and iterators"
   ]
  },
  {
   "cell_type": "markdown",
   "metadata": {},
   "source": [
    "### Iterables"
   ]
  },
  {
   "cell_type": "markdown",
   "metadata": {},
   "source": [
    "In Python, an iterable is an object capable of returning its elements one at a time. It's an abstraction that represents a sequence of values, and examples of iterables include lists, tuples, strings, dictionaries, and more. Iterable objects can be traversed or looped over using a `for` loop or by leveraging functions like `iter()`."
   ]
  },
  {
   "cell_type": "code",
   "execution_count": 2,
   "metadata": {},
   "outputs": [
    {
     "name": "stdout",
     "output_type": "stream",
     "text": [
      "[1, 1, 2, 3, 5, 8]\n",
      "__add__, __class__, __class_getitem__, __contains__, __delattr__, __delitem__, __dir__, __doc__, \n",
      "__eq__, __format__, __ge__, __getattribute__, __getitem__, __getstate__, __gt__, __hash__, \n",
      "__iadd__, __imul__, __init__, __init_subclass__, __iter__, __le__, __len__, __lt__, \n",
      "__mul__, __ne__, __new__, __reduce__, __reduce_ex__, __repr__, __reversed__, __rmul__, \n",
      "__setattr__, __setitem__, __sizeof__, __str__, __subclasshook__, append, clear, copy, \n",
      "count, extend, index, insert, pop, remove, reverse, sort, \n",
      "\n"
     ]
    }
   ],
   "source": [
    "i = [1,1,2,3,5,8]\n",
    "print(i)\n",
    "print_dir(dir(i))"
   ]
  },
  {
   "cell_type": "markdown",
   "metadata": {},
   "source": [
    "We can see in the cell above that lists have a `__iter__` method, but no `__next__` method. Thus, lists are iterable but not iterators"
   ]
  },
  {
   "cell_type": "code",
   "execution_count": 3,
   "metadata": {},
   "outputs": [
    {
     "name": "stdout",
     "output_type": "stream",
     "text": [
      "range(0, 8)\n",
      "__bool__, __class__, __contains__, __delattr__, __dir__, __doc__, __eq__, __format__, \n",
      "__ge__, __getattribute__, __getitem__, __getstate__, __gt__, __hash__, __init__, __init_subclass__, \n",
      "__iter__, __le__, __len__, __lt__, __ne__, __new__, __reduce__, __reduce_ex__, \n",
      "__repr__, __reversed__, __setattr__, __sizeof__, __str__, __subclasshook__, count, index, \n",
      "start, step, stop, \n"
     ]
    }
   ],
   "source": [
    "i = range(8)\n",
    "\n",
    "print(i)\n",
    "print_dir(i)"
   ]
  },
  {
   "cell_type": "markdown",
   "metadata": {},
   "source": [
    "The same applies for the `range` function. The range function produces iterables but not iterators."
   ]
  },
  {
   "cell_type": "markdown",
   "metadata": {},
   "source": [
    "### Iterators"
   ]
  },
  {
   "cell_type": "markdown",
   "metadata": {},
   "source": [
    "An iterator, on the other hand, is an object that implements the Python `__iter__()` and `__next__()` methods. These methods are necessary for an object to be considered an iterator. The `__iter__()` method returns the iterator object itself, and the `__next__()` method returns the next element in the sequence. When there are no more elements, it should raise the StopIteration exception to signal the end of iteration. It is noteworthy to mention that iterators can only go forward with the `next()` method.\n",
    "\n",
    "Iterables can be transformed into iterators by applying the `iter()` function on them, like the examples below."
   ]
  },
  {
   "cell_type": "markdown",
   "metadata": {},
   "source": [
    "#### Range to iterator"
   ]
  },
  {
   "cell_type": "markdown",
   "metadata": {},
   "source": [
    "In the first line, we create a range iterator object. Then, in line 2, we apply the `iter` function on it. Thus, transforming it into an iterator. We can check the class directory to verify that the object now contains a `next` method."
   ]
  },
  {
   "cell_type": "code",
   "execution_count": 15,
   "metadata": {},
   "outputs": [
    {
     "name": "stdout",
     "output_type": "stream",
     "text": [
      "<range_iterator object at 0x0000023D56EE6550>\n",
      "__class__, __delattr__, __dir__, __doc__, __eq__, __format__, __ge__, __getattribute__, \n",
      "__getstate__, __gt__, __hash__, __init__, __init_subclass__, __iter__, __le__, __length_hint__, \n",
      "__lt__, __ne__, __new__, __next__, __reduce__, __reduce_ex__, __repr__, __setattr__, \n",
      "__setstate__, __sizeof__, __str__, __subclasshook__, \n"
     ]
    }
   ],
   "source": [
    "i = range(8)\n",
    "i = iter(i)\n",
    "print(i)\n",
    "print_dir(i)"
   ]
  },
  {
   "cell_type": "code",
   "execution_count": 16,
   "metadata": {},
   "outputs": [
    {
     "name": "stdout",
     "output_type": "stream",
     "text": [
      "0\n",
      "1\n",
      "2\n",
      "3\n"
     ]
    }
   ],
   "source": [
    "print(next(i))\n",
    "print(next(i))\n",
    "print(next(i))\n",
    "print(next(i))"
   ]
  },
  {
   "cell_type": "markdown",
   "metadata": {},
   "source": [
    "#### List to iterator"
   ]
  },
  {
   "cell_type": "markdown",
   "metadata": {},
   "source": [
    "The same can be done with lists."
   ]
  },
  {
   "cell_type": "code",
   "execution_count": 35,
   "metadata": {},
   "outputs": [
    {
     "name": "stdout",
     "output_type": "stream",
     "text": [
      "<list_iterator object at 0x000001B39A170700>\n",
      "__class__, __delattr__, __dir__, __doc__, __eq__, __format__, __ge__, __getattribute__, \n",
      "__getstate__, __gt__, __hash__, __init__, __init_subclass__, __iter__, __le__, __length_hint__, \n",
      "__lt__, __ne__, __new__, __next__, __reduce__, __reduce_ex__, __repr__, __setattr__, \n",
      "__setstate__, __sizeof__, __str__, __subclasshook__, \n"
     ]
    }
   ],
   "source": [
    "i = [4,9,1]\n",
    "i = iter(i)\n",
    "print(i)\n",
    "print_dir(i)"
   ]
  },
  {
   "cell_type": "code",
   "execution_count": 36,
   "metadata": {},
   "outputs": [
    {
     "name": "stdout",
     "output_type": "stream",
     "text": [
      "4\n",
      "9\n",
      "1\n"
     ]
    },
    {
     "ename": "StopIteration",
     "evalue": "",
     "output_type": "error",
     "traceback": [
      "\u001b[1;31m---------------------------------------------------------------------------\u001b[0m",
      "\u001b[1;31mStopIteration\u001b[0m                             Traceback (most recent call last)",
      "Cell \u001b[1;32mIn[36], line 4\u001b[0m\n\u001b[0;32m      2\u001b[0m \u001b[38;5;28mprint\u001b[39m(\u001b[38;5;28mnext\u001b[39m(i))\n\u001b[0;32m      3\u001b[0m \u001b[38;5;28mprint\u001b[39m(\u001b[38;5;28mnext\u001b[39m(i))\n\u001b[1;32m----> 4\u001b[0m \u001b[38;5;28mprint\u001b[39m(\u001b[38;5;28;43mnext\u001b[39;49m\u001b[43m(\u001b[49m\u001b[43mi\u001b[49m\u001b[43m)\u001b[49m)\n",
      "\u001b[1;31mStopIteration\u001b[0m: "
     ]
    }
   ],
   "source": [
    "print(next(i))\n",
    "print(next(i))\n",
    "print(next(i))\n",
    "print(next(i))"
   ]
  },
  {
   "cell_type": "markdown",
   "metadata": {},
   "source": [
    "#### `map` iterator"
   ]
  },
  {
   "cell_type": "markdown",
   "metadata": {},
   "source": [
    "In Python, the `map` function is designed to apply a specified function to every item in an iterable (e.g., a list) and generate the results as an iterator. This means that instead of immediately computing and storing all the results in memory, `map` produces values on-the-fly as needed. By doing so, it offers memory efficiency, particularly when dealing with large datasets, as it avoids the necessity to create an entirely new list in memory. The iterator generated by `map` can be utilized in loops or converted to other iterable types.\n",
    "\n",
    "The following `map` function applies the `len` function on the strings in the list `L`."
   ]
  },
  {
   "cell_type": "code",
   "execution_count": 41,
   "metadata": {},
   "outputs": [
    {
     "name": "stdout",
     "output_type": "stream",
     "text": [
      "<map object at 0x000001B39A172290>\n",
      "__class__, __delattr__, __dir__, __doc__, __eq__, __format__, __ge__, __getattribute__, \n",
      "__getstate__, __gt__, __hash__, __init__, __init_subclass__, __iter__, __le__, __lt__, \n",
      "__ne__, __new__, __next__, __reduce__, __reduce_ex__, __repr__, __setattr__, __sizeof__, \n",
      "__str__, __subclasshook__, \n"
     ]
    }
   ],
   "source": [
    "L = [\"John\", \"Doe\", \"very long phrase\", \"1\"]\n",
    "i = map(len, L)\n",
    "print(i)\n",
    "print_dir(i)"
   ]
  },
  {
   "cell_type": "code",
   "execution_count": 42,
   "metadata": {},
   "outputs": [
    {
     "name": "stdout",
     "output_type": "stream",
     "text": [
      "4\n",
      "3\n",
      "16\n",
      "1\n"
     ]
    }
   ],
   "source": [
    "print(next(i))\n",
    "print(next(i))\n",
    "print(next(i))\n",
    "print(next(i))"
   ]
  },
  {
   "cell_type": "markdown",
   "metadata": {},
   "source": [
    "In the example below, we change the 3rd element of the list after creation of the iterator. We see that the iterator now returns the value `3` and not `16`, since the values are not stored at the moment of creation, but computed on-the-fly."
   ]
  },
  {
   "cell_type": "code",
   "execution_count": 43,
   "metadata": {},
   "outputs": [
    {
     "name": "stdout",
     "output_type": "stream",
     "text": [
      "<map object at 0x000001B39A191D80>\n",
      "__class__, __delattr__, __dir__, __doc__, __eq__, __format__, __ge__, __getattribute__, \n",
      "__getstate__, __gt__, __hash__, __init__, __init_subclass__, __iter__, __le__, __lt__, \n",
      "__ne__, __new__, __next__, __reduce__, __reduce_ex__, __repr__, __setattr__, __sizeof__, \n",
      "__str__, __subclasshook__, \n",
      "4\n",
      "3\n",
      "3\n",
      "1\n"
     ]
    }
   ],
   "source": [
    "L = [\"John\", \"Doe\", \"very long phrase\", \"1\"]\n",
    "i = map(len, L)\n",
    "print(i)\n",
    "print_dir(i)\n",
    "\n",
    "print(next(i))\n",
    "print(next(i))\n",
    "L[2] = \"two\"\n",
    "print(next(i))\n",
    "print(next(i))"
   ]
  },
  {
   "cell_type": "markdown",
   "metadata": {},
   "source": [
    "## `my_range`"
   ]
  },
  {
   "cell_type": "markdown",
   "metadata": {},
   "source": [
    "Now, we will practice by writing our own iterator `my_range`."
   ]
  },
  {
   "cell_type": "code",
   "execution_count": 29,
   "metadata": {},
   "outputs": [],
   "source": [
    "class my_range:\n",
    "    def __init__(self, *args):\n",
    "        if len(args) == 1:\n",
    "            self.value = 0\n",
    "            (self.end,) = args\n",
    "            self.step = 1\n",
    "        elif len(args) == 2:\n",
    "            (self.value, self.end) =args\n",
    "            self.step =1\n",
    "        elif len(args) == 3:\n",
    "            (self.value, self.end, self.step) =args\n",
    "        else:\n",
    "            raise TypeError('range expected between 1 and 3 arguments')\n",
    "    def __iter__(self):\n",
    "        return self\n",
    "    def __next__(self):\n",
    "        if self.value >= self.end:\n",
    "            raise StopIteration\n",
    "        current_value = self.value\n",
    "        self.value += self.step\n",
    "        return current_value        "
   ]
  },
  {
   "cell_type": "code",
   "execution_count": 33,
   "metadata": {},
   "outputs": [],
   "source": [
    "i = my_range(3)"
   ]
  },
  {
   "cell_type": "code",
   "execution_count": 34,
   "metadata": {},
   "outputs": [
    {
     "name": "stdout",
     "output_type": "stream",
     "text": [
      "0\n",
      "1\n",
      "2\n"
     ]
    },
    {
     "ename": "StopIteration",
     "evalue": "",
     "output_type": "error",
     "traceback": [
      "\u001b[1;31m---------------------------------------------------------------------------\u001b[0m",
      "\u001b[1;31mStopIteration\u001b[0m                             Traceback (most recent call last)",
      "Cell \u001b[1;32mIn[34], line 4\u001b[0m\n\u001b[0;32m      2\u001b[0m \u001b[38;5;28mprint\u001b[39m(\u001b[38;5;28mnext\u001b[39m(i))\n\u001b[0;32m      3\u001b[0m \u001b[38;5;28mprint\u001b[39m(\u001b[38;5;28mnext\u001b[39m(i))\n\u001b[1;32m----> 4\u001b[0m \u001b[38;5;28mprint\u001b[39m(\u001b[38;5;28;43mnext\u001b[39;49m\u001b[43m(\u001b[49m\u001b[43mi\u001b[49m\u001b[43m)\u001b[49m)\n",
      "Cell \u001b[1;32mIn[29], line 18\u001b[0m, in \u001b[0;36mmy_range.__next__\u001b[1;34m(self)\u001b[0m\n\u001b[0;32m     16\u001b[0m \u001b[38;5;28;01mdef\u001b[39;00m \u001b[38;5;21m__next__\u001b[39m(\u001b[38;5;28mself\u001b[39m):\n\u001b[0;32m     17\u001b[0m     \u001b[38;5;28;01mif\u001b[39;00m \u001b[38;5;28mself\u001b[39m\u001b[38;5;241m.\u001b[39mvalue \u001b[38;5;241m>\u001b[39m\u001b[38;5;241m=\u001b[39m \u001b[38;5;28mself\u001b[39m\u001b[38;5;241m.\u001b[39mend:\n\u001b[1;32m---> 18\u001b[0m         \u001b[38;5;28;01mraise\u001b[39;00m \u001b[38;5;167;01mStopIteration\u001b[39;00m\n\u001b[0;32m     19\u001b[0m     current_value \u001b[38;5;241m=\u001b[39m \u001b[38;5;28mself\u001b[39m\u001b[38;5;241m.\u001b[39mvalue\n\u001b[0;32m     20\u001b[0m     \u001b[38;5;28mself\u001b[39m\u001b[38;5;241m.\u001b[39mvalue \u001b[38;5;241m+\u001b[39m\u001b[38;5;241m=\u001b[39m \u001b[38;5;28mself\u001b[39m\u001b[38;5;241m.\u001b[39mstep\n",
      "\u001b[1;31mStopIteration\u001b[0m: "
     ]
    }
   ],
   "source": [
    "print(next(i))\n",
    "print(next(i))\n",
    "print(next(i))\n",
    "print(next(i))"
   ]
  },
  {
   "cell_type": "markdown",
   "metadata": {},
   "source": [
    "## Generator functions"
   ]
  },
  {
   "cell_type": "markdown",
   "metadata": {},
   "source": [
    "A generator function in Python is a special type of function that contains one or more `yield` statements. When called, a generator function returns a generator object, which can be iterated over to retrieve a sequence of values produced by the yield statements. The key distinction between a regular function and a generator function is that the latter doesn't execute its code immediately when called. Instead, it returns a generator object, and the function's execution is deferred until the generator is iterated."
   ]
  },
  {
   "cell_type": "code",
   "execution_count": 53,
   "metadata": {},
   "outputs": [],
   "source": [
    "def count_up_to(limit):\n",
    "    count = 1\n",
    "    while count <= limit:\n",
    "        yield count\n",
    "        count += 1"
   ]
  },
  {
   "cell_type": "markdown",
   "metadata": {},
   "source": [
    "`count_up_to` returns a generator object."
   ]
  },
  {
   "cell_type": "code",
   "execution_count": 58,
   "metadata": {},
   "outputs": [
    {
     "name": "stdout",
     "output_type": "stream",
     "text": [
      "<generator object count_up_to at 0x000001B39A59C860>\n"
     ]
    }
   ],
   "source": [
    "counter = count_up_to(3)\n",
    "\n",
    "print(counter)"
   ]
  },
  {
   "cell_type": "code",
   "execution_count": 55,
   "metadata": {},
   "outputs": [
    {
     "name": "stdout",
     "output_type": "stream",
     "text": [
      "1\n",
      "2\n",
      "3\n"
     ]
    }
   ],
   "source": [
    "for number in counter:\n",
    "    print(number)"
   ]
  },
  {
   "cell_type": "markdown",
   "metadata": {},
   "source": [
    "The generator object has a `next` method."
   ]
  },
  {
   "cell_type": "code",
   "execution_count": 59,
   "metadata": {},
   "outputs": [
    {
     "name": "stdout",
     "output_type": "stream",
     "text": [
      "__class__, __del__, __delattr__, __dir__, __doc__, __eq__, __format__, __ge__, \n",
      "__getattribute__, __getstate__, __gt__, __hash__, __init__, __init_subclass__, __iter__, __le__, \n",
      "__lt__, __name__, __ne__, __new__, __next__, __qualname__, __reduce__, __reduce_ex__, \n",
      "__repr__, __setattr__, __sizeof__, __str__, __subclasshook__, close, gi_code, gi_frame, \n",
      "gi_running, gi_suspended, gi_yieldfrom, send, throw, \n"
     ]
    }
   ],
   "source": [
    "counter = count_up_to(2)\n",
    "print_dir(counter)"
   ]
  },
  {
   "cell_type": "code",
   "execution_count": 60,
   "metadata": {},
   "outputs": [
    {
     "name": "stdout",
     "output_type": "stream",
     "text": [
      "1\n",
      "2\n"
     ]
    },
    {
     "ename": "StopIteration",
     "evalue": "",
     "output_type": "error",
     "traceback": [
      "\u001b[1;31m---------------------------------------------------------------------------\u001b[0m",
      "\u001b[1;31mStopIteration\u001b[0m                             Traceback (most recent call last)",
      "Cell \u001b[1;32mIn[60], line 3\u001b[0m\n\u001b[0;32m      1\u001b[0m \u001b[38;5;28mprint\u001b[39m(\u001b[38;5;28mnext\u001b[39m(counter))\n\u001b[0;32m      2\u001b[0m \u001b[38;5;28mprint\u001b[39m(\u001b[38;5;28mnext\u001b[39m(counter))\n\u001b[1;32m----> 3\u001b[0m \u001b[38;5;28mprint\u001b[39m(\u001b[38;5;28;43mnext\u001b[39;49m\u001b[43m(\u001b[49m\u001b[43mcounter\u001b[49m\u001b[43m)\u001b[49m)\n",
      "\u001b[1;31mStopIteration\u001b[0m: "
     ]
    }
   ],
   "source": [
    "print(next(counter))\n",
    "print(next(counter))\n",
    "print(next(counter))"
   ]
  }
 ],
 "metadata": {
  "kernelspec": {
   "display_name": "Python 3",
   "language": "python",
   "name": "python3"
  },
  "language_info": {
   "codemirror_mode": {
    "name": "ipython",
    "version": 3
   },
   "file_extension": ".py",
   "mimetype": "text/x-python",
   "name": "python",
   "nbconvert_exporter": "python",
   "pygments_lexer": "ipython3",
   "version": "3.11.4"
  }
 },
 "nbformat": 4,
 "nbformat_minor": 2
}
