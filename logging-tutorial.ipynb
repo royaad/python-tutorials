{
 "cells": [
  {
   "cell_type": "markdown",
   "metadata": {},
   "source": [
    "# logging"
   ]
  },
  {
   "cell_type": "markdown",
   "metadata": {},
   "source": [
    "## Logging `basicConfig`"
   ]
  },
  {
   "cell_type": "markdown",
   "metadata": {},
   "source": [
    "The logging configuration can be set using the [`basicConfig`](https://docs.python.org/3/library/logging.html#logging.basicConfig) method. The most important arguments to provide are:\n",
    "* `filename`: Specifies that a `FileHandler` be created, using the specified filename, rather than a `StreamHandler`, i.e. the logging messages will be printed in a log file instead of the console.\n",
    "* `level`: Set the `root` logger level to the specified level. Logging levels will be discussed in the next section.\n",
    "* `format`: Use the specified format string for the handler. Defaults to attributes `levelname`, `name` and `message` separated by colons. For more info consult the [LogRecord attributes documentation](https://docs.python.org/3/library/logging.html#logrecord-attributes).\n",
    "* `datefmt`: Use the specified date/time format, as accepted by `time.strftime()`. You can read more about date/time formats in [link1](https://docs.python.org/3/library/time.html#time.strftime) or [link2](https://docs.python.org/3/library/datetime.html#format-codes).\n",
    "* `filemode`: Specifies the write mode, where the default file mode is `a`."
   ]
  },
  {
   "cell_type": "markdown",
   "metadata": {},
   "source": [
    "In the code cell below, we set the `root` logger to:\n",
    "* write the log messages in a file called `logging.log`\n",
    "* only write logs with level `debug` and above.\n",
    "* the log format should contain: the timestamp `asctime`, the logger's `name`, the `levelname`, and the `message` to be logged.\n",
    "* the timestamp `asctime` should have a format of `YYYY-MM-DD (HH:MM:SS)`"
   ]
  },
  {
   "cell_type": "code",
   "execution_count": 1,
   "metadata": {},
   "outputs": [],
   "source": [
    "import logging\n",
    "\n",
    "logging.basicConfig(filename='root.log',\n",
    "                    level=logging.DEBUG,\n",
    "                    format='%(asctime)s: %(name)s: %(levelname)s: %(message)s',\n",
    "                    datefmt='%Y-%m-%d (%H:%M:%S)')"
   ]
  },
  {
   "cell_type": "markdown",
   "metadata": {},
   "source": [
    "After setting the `basicConfig`, the logged messages have the following format:\n",
    "\n",
    "`2023-12-08 (09:30:51): root: INFO: This is an info message`"
   ]
  },
  {
   "cell_type": "markdown",
   "metadata": {},
   "source": [
    "**N.B.** it is important to note that once the `root` config has been set using `basicConfig`, it cannot be changed by calling `basicConfig` again. Instead, each setting should be changed independantly by calling its corresponding setter.\n",
    "\n",
    "For example, if we want to change the `root` `level` to `WARNING`, then we must use the following code snipet:\n",
    "\n",
    "`logging.root.setLevel(logging.WARNING)`"
   ]
  },
  {
   "cell_type": "markdown",
   "metadata": {},
   "source": [
    "Generally, it is a better practice to create various logger objects to handle the logs (will be discussed later). However, setting some basic formatting, `format` and `datefmt`, to the `root` logger can be beneficial, since logger objects can always fallback to the `root` logger settings if certain configs were not specifically set for the logger objects."
   ]
  },
  {
   "cell_type": "markdown",
   "metadata": {},
   "source": [
    "## Logging Levels"
   ]
  },
  {
   "cell_type": "markdown",
   "metadata": {},
   "source": [
    "Logging encompasses **5** [logging levels](https://docs.python.org/3/library/logging.html#logging-levels), listed in ascending order of severity:\n",
    "1. `debug`\n",
    "2. `info`\n",
    "3. `warning`\n",
    "4. `error`\n",
    "5. `critical`\n",
    "\n",
    "We can add to those `exception` which logs a message with level `error` but with `Exception` info is added to the logging message.\n",
    "\n",
    "The log messages are called likeso,"
   ]
  },
  {
   "cell_type": "code",
   "execution_count": 4,
   "metadata": {},
   "outputs": [],
   "source": [
    "logging.debug('This is a debug message')\n",
    "logging.info('This is an info message')\n",
    "logging.warning('This is a warning message')\n",
    "logging.error('This is an error message')\n",
    "logging.critical('This is a critical message')\n",
    "logging.exception('This is an exception message')"
   ]
  },
  {
   "cell_type": "markdown",
   "metadata": {},
   "source": [
    "To highlight the difference between `error` and `exception`, we will log the message of a `ZeroDivisionError` using both methods."
   ]
  },
  {
   "cell_type": "code",
   "execution_count": 3,
   "metadata": {},
   "outputs": [],
   "source": [
    "try: 1/0\n",
    "except ZeroDivisionError:\n",
    "    logging.error(ZeroDivisionError.__name__)\n",
    "    logging.exception(ZeroDivisionError.__name__)"
   ]
  },
  {
   "cell_type": "markdown",
   "metadata": {},
   "source": [
    "The log file shows the following:\n",
    "\n",
    "![`error` vs `exception`](./images/logging-error-vs-exception.png)\n",
    "\n",
    "We remark that `exception` logged the `ZeroDivisionError` traceback along with the `message`, while `error` only logged the `message`.\n"
   ]
  },
  {
   "cell_type": "markdown",
   "metadata": {},
   "source": [
    "It is important to note that when setting the logging level, the levels should be set using **capital** letters, like the code cell below.\n",
    "\n",
    "For more infor refer to the [documentation](https://docs.python.org/3/library/logging.html#logging-levels)."
   ]
  },
  {
   "cell_type": "code",
   "execution_count": null,
   "metadata": {},
   "outputs": [],
   "source": [
    "logging.root.setLevel(logging.NOTSET)\n",
    "logging.root.setLevel(logging.DEBUG)\n",
    "logging.root.setLevel(logging.INFO)\n",
    "logging.root.setLevel(logging.WARNING)\n",
    "logging.root.setLevel(logging.ERROR)\n",
    "logging.root.setLevel(logging.CRITICAL)"
   ]
  },
  {
   "cell_type": "markdown",
   "metadata": {},
   "source": [
    "## Logger Objects"
   ]
  },
  {
   "cell_type": "markdown",
   "metadata": {},
   "source": [
    "It is advisable to adopt a preferable practice of constructing logger objects designed to manage logging in a distinct manner. Direct instantiation of loggers is discouraged; instead, it is recommended to utilize the module-level function `logging.getLogger(name)`. Repeated calls to `getLogger()` with the same name consistently yield a reference to the same Logger object."
   ]
  },
  {
   "cell_type": "markdown",
   "metadata": {},
   "source": [
    "In the code cell provided below, an instance of a logger object is instantiated with the assigned name 'tutorial-logger,' and its logging level is configured to `DEBUG`."
   ]
  },
  {
   "cell_type": "code",
   "execution_count": 1,
   "metadata": {},
   "outputs": [],
   "source": [
    "import logging\n",
    "\n",
    "logger = logging.getLogger('tutorial-logger')\n",
    "# set the log level for logger1\n",
    "logger.setLevel(logging.DEBUG)"
   ]
  },
  {
   "cell_type": "markdown",
   "metadata": {},
   "source": [
    "Now, attempting to print both an `info` and a `critical` message using the `logger`."
   ]
  },
  {
   "cell_type": "code",
   "execution_count": 2,
   "metadata": {},
   "outputs": [
    {
     "name": "stderr",
     "output_type": "stream",
     "text": [
      "critical message from logger\n"
     ]
    }
   ],
   "source": [
    "logger.info('info message from logger')\n",
    "logger.critical('critical message from logger')"
   ]
  },
  {
   "cell_type": "code",
   "execution_count": 3,
   "metadata": {},
   "outputs": [
    {
     "data": {
      "text/plain": [
       "False"
      ]
     },
     "execution_count": 3,
     "metadata": {},
     "output_type": "execute_result"
    }
   ],
   "source": [
    "logging.root.hasHandlers()"
   ]
  },
  {
   "cell_type": "markdown",
   "metadata": {},
   "source": [
    "Observing two aspects:\n",
    "1. The `info` message was not printed despite specifying the log level as `DEBUG`.\n",
    "2. The message lacks formatting.\n",
    "\n",
    "This occurs because we must define `handlers` and `formatters` for our `logger`.\n",
    "\n",
    "It's essential to highlight that we haven't configured `basicConfig` for our `root`, causing the `logger` to lack fallback settings to the `root`.\n",
    "\n",
    "By invoking `logging.basicConfig()` even with empty arguments, a `root` handler is established, enabling the `logger` to fallback to it.\n",
    "\n",
    "We can confirm the creation of the root handler by invoking `logging.root.hasHandlers()`."
   ]
  },
  {
   "cell_type": "code",
   "execution_count": 7,
   "metadata": {},
   "outputs": [
    {
     "name": "stderr",
     "output_type": "stream",
     "text": [
      "INFO:tutorial-logger:info message from logger\n",
      "CRITICAL:tutorial-logger:critical message from logger\n"
     ]
    }
   ],
   "source": [
    "logging.basicConfig()\n",
    "\n",
    "logger.info('info message from logger')\n",
    "logger.critical('critical message from logger')"
   ]
  },
  {
   "cell_type": "code",
   "execution_count": 5,
   "metadata": {},
   "outputs": [
    {
     "data": {
      "text/plain": [
       "True"
      ]
     },
     "execution_count": 5,
     "metadata": {},
     "output_type": "execute_result"
    }
   ],
   "source": [
    "logging.root.hasHandlers()"
   ]
  },
  {
   "cell_type": "markdown",
   "metadata": {},
   "source": [
    "Now, let's generate file handlers and formatters to assign to our logger."
   ]
  },
  {
   "cell_type": "code",
   "execution_count": 2,
   "metadata": {},
   "outputs": [],
   "source": [
    "# create a file_handler for logger\n",
    "file_handler = logging.FileHandler('tutorial.log')\n",
    "# create a formatter for the file_handler\n",
    "formatter = logging.Formatter(fmt='%(asctime)s: %(name)s: %(levelname)s: %(message)s',\n",
    "                              datefmt='%Y-%m-%d (%H:%M:%S)')\n",
    "# and add it to the file_handler\n",
    "file_handler.setFormatter(formatter)\n",
    "# add the file_handler to the logger\n",
    "logger.addHandler(file_handler)"
   ]
  },
  {
   "cell_type": "markdown",
   "metadata": {},
   "source": [
    "Now, let's reprint both an `info` and a `critical` message using the configured `logger`."
   ]
  },
  {
   "cell_type": "code",
   "execution_count": 8,
   "metadata": {},
   "outputs": [
    {
     "name": "stderr",
     "output_type": "stream",
     "text": [
      "INFO:tutorial-logger:info message from logger\n",
      "CRITICAL:tutorial-logger:critical message from logger\n"
     ]
    }
   ],
   "source": [
    "logger.info('info message from logger')\n",
    "logger.critical('critical message from logger')"
   ]
  },
  {
   "cell_type": "markdown",
   "metadata": {},
   "source": [
    "Upon inspecting the tutorial-logger.log file, it's evident that the logger has correctly printed the logs in the desired format. However, the logger also displayed content in the stream, utilizing the default format of the `root`. This is attributed to the absence of a specified stream handler for the `logger`, prompting it to resort to the `root`'s stream handler.\n",
    "\n",
    "To address this, we have two options:\n",
    "1. Clear the root's stream handler if the intention is to avoid any stream output.\n",
    "2. Create a custom stream handler for the `logger` to control the stream output as per our requirements."
   ]
  },
  {
   "cell_type": "markdown",
   "metadata": {},
   "source": [
    "Firstly, let's attempt option one by clearing the `root`'s stream handler."
   ]
  },
  {
   "cell_type": "code",
   "execution_count": 9,
   "metadata": {},
   "outputs": [
    {
     "data": {
      "text/plain": [
       "False"
      ]
     },
     "execution_count": 9,
     "metadata": {},
     "output_type": "execute_result"
    }
   ],
   "source": [
    "logging.root.handlers.clear()\n",
    "logging.root.hasHandlers()"
   ]
  },
  {
   "cell_type": "markdown",
   "metadata": {},
   "source": [
    "Now, let's print both an `info` and a `critical` message again to observe the impact of clearing the root's stream handler."
   ]
  },
  {
   "cell_type": "code",
   "execution_count": 10,
   "metadata": {},
   "outputs": [],
   "source": [
    "logger.info('info message from logger')\n",
    "logger.critical('critical message from logger')"
   ]
  },
  {
   "cell_type": "markdown",
   "metadata": {},
   "source": [
    "Indeed, the `logger` only logged the messages to tutorial.log.\n",
    "\n",
    "By configuring the `logger` and its `file_handler` before logging any messages, the log will also solely be directed to the file, eliminating streaming messages."
   ]
  },
  {
   "cell_type": "markdown",
   "metadata": {},
   "source": [
    "Now, let's create a stream handler to facilitate streaming messages through the console."
   ]
  },
  {
   "cell_type": "code",
   "execution_count": 12,
   "metadata": {},
   "outputs": [],
   "source": [
    "formatter = logging.Formatter(fmt='%(asctime)s.%(msecs)d: %(name)s: %(levelname)s: %(message)s',\n",
    "                              datefmt='%Y-%m-%d %H:%M:%S')\n",
    "\n",
    "stream_handler = logging.StreamHandler()\n",
    "stream_handler.setLevel(logging.WARNING)\n",
    "stream_handler.setFormatter(formatter)\n",
    "\n",
    "logger.addHandler(stream_handler)"
   ]
  },
  {
   "cell_type": "markdown",
   "metadata": {},
   "source": [
    "We can inspect the handlers associated with the logger by executing `logger.handlers`."
   ]
  },
  {
   "cell_type": "code",
   "execution_count": 13,
   "metadata": {},
   "outputs": [
    {
     "data": {
      "text/plain": [
       "[<FileHandler c:\\Users\\user\\Desktop\\MOOCs\\python-tutorials\\tutorial.log (NOTSET)>,\n",
       " <StreamHandler stderr (WARNING)>]"
      ]
     },
     "execution_count": 13,
     "metadata": {},
     "output_type": "execute_result"
    }
   ],
   "source": [
    "logger.handlers"
   ]
  },
  {
   "cell_type": "markdown",
   "metadata": {},
   "source": [
    "Certainly, it's evident from the output that we have two handlers configured for the logger: a file handler with a level of `NOTSET` and a stream handler with a level of `WARNING`. This setup allows for both file logging and streaming, with the specified levels indicating the severity threshold for each handler."
   ]
  },
  {
   "cell_type": "markdown",
   "metadata": {},
   "source": [
    "Now, let's print both an `info` and a `critical` message again to observe the impact of having both a file handler and a stream handler configured for the logger."
   ]
  },
  {
   "cell_type": "code",
   "execution_count": 14,
   "metadata": {},
   "outputs": [
    {
     "name": "stderr",
     "output_type": "stream",
     "text": [
      "2023-12-08 20:22:32.76: tutorial-logger: CRITICAL: critical message from logger\n"
     ]
    }
   ],
   "source": [
    "logger.info('info message from logger')\n",
    "logger.critical('critical message from logger')"
   ]
  },
  {
   "cell_type": "markdown",
   "metadata": {},
   "source": [
    "Certainly, the observed behavior aligns with the configured settings. The stream handler, with a level of `WARNING`, printed only the critical message, as messages below this severity level were filtered out. On the other hand, the file handler, with a level of `NOTSET`, printed all messages, as it falls back to the logger's level, which is `DEBUG`. This provides a clear illustration of how handlers and their levels influence the logging output."
   ]
  },
  {
   "cell_type": "markdown",
   "metadata": {},
   "source": [
    "The order of fallback is a key aspect in understanding the logging hierarchy:\n",
    "\n",
    "1. **Handler Fallback to Logger:**\n",
    "   If a handler lacks a specific configuration, it falls back to the logger's configuration.\n",
    "\n",
    "2. **Logger Fallback to Root Logger:**\n",
    "   If the logger itself doesn't have a particular configuration, it falls back to the root logger's configuration.\n",
    "\n",
    "This hierarchy allows for a flexible and cascading setup, ensuring that each component in the logging process can be configured at different levels, providing a balance between specificity and inheritance."
   ]
  },
  {
   "cell_type": "markdown",
   "metadata": {},
   "source": [
    "We can remove handlers from the logger using the `removeHandler` method."
   ]
  },
  {
   "cell_type": "code",
   "execution_count": 19,
   "metadata": {},
   "outputs": [
    {
     "name": "stdout",
     "output_type": "stream",
     "text": [
      "[<FileHandler c:\\Users\\user\\Desktop\\MOOCs\\python-tutorials\\tutorial.log (NOTSET)>, <StreamHandler stderr (WARNING)>]\n",
      "[<StreamHandler stderr (WARNING)>]\n"
     ]
    }
   ],
   "source": [
    "print(logger.handlers)\n",
    "logger.removeHandler(file_handler)\n",
    "print(logger.handlers)"
   ]
  },
  {
   "cell_type": "markdown",
   "metadata": {},
   "source": [
    "To get the level of loggers and handlers, we can use"
   ]
  },
  {
   "cell_type": "code",
   "execution_count": 32,
   "metadata": {},
   "outputs": [
    {
     "name": "stdout",
     "output_type": "stream",
     "text": [
      "10\n",
      "10\n"
     ]
    },
    {
     "data": {
      "text/plain": [
       "'DEBUG'"
      ]
     },
     "execution_count": 32,
     "metadata": {},
     "output_type": "execute_result"
    }
   ],
   "source": [
    "print(logger.level)\n",
    "print(stream_handler.level)\n",
    "logging.getLevelName(logger.level)"
   ]
  },
  {
   "cell_type": "markdown",
   "metadata": {},
   "source": [
    "## `SysLogHandler`"
   ]
  },
  {
   "cell_type": "markdown",
   "metadata": {},
   "source": [
    "The SysLogHandler class, located in the logging.handlers module, supports sending logging messages to a remote or local Unix syslog. In the following, we will just provide the synthax to set the handler."
   ]
  },
  {
   "cell_type": "code",
   "execution_count": null,
   "metadata": {},
   "outputs": [],
   "source": [
    "import logging\n",
    "from logging.handlers import SysLogHandler\n",
    "\n",
    "HOST = \"xxx.yyy.com\"\n",
    "PORT = 12345\n",
    "\n",
    "logger = logging.getLogger('remote-handler')\n",
    "logger.setLevel(logging.INFO)\n",
    "handler = SysLogHandler(address=(HOST, PORT))\n",
    "handler.setLevel(logging.WARNING)\n",
    "logger.addHandler(handler)"
   ]
  },
  {
   "cell_type": "markdown",
   "metadata": {},
   "source": [
    "## `logging_tree`"
   ]
  },
  {
   "cell_type": "markdown",
   "metadata": {},
   "source": [
    "The logging_tree module provides a hierarchical and graphical representation of the logging configuration in Python. When invoked, it displays a structured tree diagram illustrating the relationships between loggers and handlers, offering a comprehensive overview of the logging architecture. This tool proves invaluable for debugging and optimizing logging setups, enabling developers to easily visualize and comprehend the flow of log messages through different parts of their application."
   ]
  },
  {
   "cell_type": "code",
   "execution_count": 15,
   "metadata": {},
   "outputs": [
    {
     "name": "stdout",
     "output_type": "stream",
     "text": [
      "<--\"\"\n",
      "   Level WARNING\n",
      "   |\n",
      "   o<--\"Comm\"\n",
      "   |   Level NOTSET so inherits level WARNING\n",
      "   |\n",
      "   o   \"IPKernelApp\"\n",
      "   |   Level DEBUG\n",
      "   |   Propagate OFF\n",
      "   |   Handler Stream <_io.TextIOWrapper name='<stderr>' mode='w' encoding='utf-8'>\n",
      "   |     Level WARNING\n",
      "   |     Formatter <traitlets.config.application.LevelFormatter object at 0x0000016BBFD7A710>\n",
      "   |\n",
      "   o<--\"asyncio\"\n",
      "   |   Level NOTSET so inherits level WARNING\n",
      "   |\n",
      "   o<--[concurrent]\n",
      "   |   |\n",
      "   |   o<--\"concurrent.futures\"\n",
      "   |       Level NOTSET so inherits level WARNING\n",
      "   |\n",
      "   o<--[ipykernel]\n",
      "   |   |\n",
      "   |   o<--\"ipykernel.comm\"\n",
      "   |       Level NOTSET so inherits level WARNING\n",
      "   |\n",
      "   o<--[parso]\n",
      "   |   |\n",
      "   |   o<--\"parso.cache\"\n",
      "   |   |   Level NOTSET so inherits level WARNING\n",
      "   |   |\n",
      "   |   o<--[parso.python]\n",
      "   |       |\n",
      "   |       o<--\"parso.python.diff\"\n",
      "   |           Level NOTSET so inherits level WARNING\n",
      "   |\n",
      "   o<--[pkg_resources]\n",
      "   |   |\n",
      "   |   o<--[pkg_resources.extern]\n",
      "   |       |\n",
      "   |       o<--[pkg_resources.extern.packaging]\n",
      "   |           |\n",
      "   |           o<--\"pkg_resources.extern.packaging.tags\"\n",
      "   |               Level NOTSET so inherits level WARNING\n",
      "   |\n",
      "   o<--[prompt_toolkit]\n",
      "   |   |\n",
      "   |   o<--\"prompt_toolkit.buffer\"\n",
      "   |       Level NOTSET so inherits level WARNING\n",
      "   |\n",
      "   o<--[stack_data]\n",
      "   |   |\n",
      "   |   o<--\"stack_data.serializing\"\n",
      "   |       Level NOTSET so inherits level WARNING\n",
      "   |\n",
      "   o<--\"tornado\"\n",
      "   |   Level NOTSET so inherits level WARNING\n",
      "   |   Handler Stream <_io.TextIOWrapper name='<stderr>' mode='w' encoding='utf-8'>\n",
      "   |     Formatter fmt='%(levelname)s:%(name)s:%(message)s' datefmt=None\n",
      "   |   |\n",
      "   |   o<--\"tornado.access\"\n",
      "   |   |   Level NOTSET so inherits level WARNING\n",
      "   |   |\n",
      "   |   o<--\"tornado.application\"\n",
      "   |   |   Level NOTSET so inherits level WARNING\n",
      "   |   |\n",
      "   |   o<--\"tornado.general\"\n",
      "   |       Level NOTSET so inherits level WARNING\n",
      "   |\n",
      "   o<--\"tutorial-logger\"\n",
      "       Level DEBUG\n",
      "       Handler File 'c:\\\\Users\\\\user\\\\Desktop\\\\MOOCs\\\\python-tutorials\\\\tutorial.log'\n",
      "         Formatter fmt='%(asctime)s: %(name)s: %(levelname)s: %(message)s' datefmt='%Y-%m-%d (%H:%M:%S)'\n",
      "       Handler Stream <ipykernel.iostream.OutStream object at 0x0000016BC1284A90>\n",
      "         Level WARNING\n",
      "         Formatter fmt='%(asctime)s.%(msecs)d: %(name)s: %(levelname)s: %(message)s' datefmt='%Y-%m-%d %H:%M:%S'\n"
     ]
    }
   ],
   "source": [
    "from logging_tree import printout\n",
    "\n",
    "printout()"
   ]
  }
 ],
 "metadata": {
  "kernelspec": {
   "display_name": "Python 3",
   "language": "python",
   "name": "python3"
  },
  "language_info": {
   "codemirror_mode": {
    "name": "ipython",
    "version": 3
   },
   "file_extension": ".py",
   "mimetype": "text/x-python",
   "name": "python",
   "nbconvert_exporter": "python",
   "pygments_lexer": "ipython3",
   "version": "3.11.4"
  }
 },
 "nbformat": 4,
 "nbformat_minor": 2
}
