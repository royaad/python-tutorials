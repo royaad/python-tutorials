{
 "cells": [
  {
   "cell_type": "markdown",
   "metadata": {},
   "source": [
    "# logging"
   ]
  },
  {
   "cell_type": "markdown",
   "metadata": {},
   "source": [
    "## Logging `basicConfig`"
   ]
  },
  {
   "cell_type": "markdown",
   "metadata": {},
   "source": [
    "The logging configuration can be set using the [`basicConfig`](https://docs.python.org/3/library/logging.html#logging.basicConfig) method. The most important arguments to provide are:\n",
    "* `filename`: Specifies that a `FileHandler` be created, using the specified filename, rather than a `StreamHandler`, i.e. the logging messages will be printed in a log file instead of the console.\n",
    "* `level`: Set the `root` logger level to the specified level. Logging levels will be discussed in the next section.\n",
    "* `format`: Use the specified format string for the handler. Defaults to attributes `levelname`, `name` and `message` separated by colons. For more info consult the [LogRecord attributes documentation](https://docs.python.org/3/library/logging.html#logrecord-attributes).\n",
    "* `datefmt`: Use the specified date/time format, as accepted by `time.strftime()`. You can read more about date/time formats in [link1](https://docs.python.org/3/library/time.html#time.strftime) or [link2](https://docs.python.org/3/library/datetime.html#format-codes)."
   ]
  },
  {
   "cell_type": "markdown",
   "metadata": {},
   "source": [
    "In the code cell below, we set the `root` logger to:\n",
    "* write the log messages in a file called `logging.log`\n",
    "* only write logs with level `debug` and above.\n",
    "* the log format should contain: the timestamp `asctime`, the logger's `name`, the `levelname`, and the `message` to be logged.\n",
    "* the timestamp `asctime` should have a format of `YYYY-MM-DD (HH:MM:SS)`"
   ]
  },
  {
   "cell_type": "code",
   "execution_count": 1,
   "metadata": {},
   "outputs": [],
   "source": [
    "import logging\n",
    "\n",
    "logging.basicConfig(filename='root.log',\n",
    "                    level=logging.DEBUG,\n",
    "                    format='%(asctime)s: %(name)s: %(levelname)s: %(message)s',\n",
    "                    datefmt='%Y-%m-%d (%H:%M:%S)')"
   ]
  },
  {
   "cell_type": "markdown",
   "metadata": {},
   "source": [
    "After setting the `basicConfig`, the logged messages have the following format:\n",
    "\n",
    "`2023-12-08 (09:30:51): root: INFO: This is an info message`"
   ]
  },
  {
   "cell_type": "markdown",
   "metadata": {},
   "source": [
    "**N.B.** it is important to note that once the `root` config has been set using `basicConfig`, it cannot be changed by calling `basicConfig` again. Instead, each setting should be changed independantly by calling its corresponding setter.\n",
    "\n",
    "For example, if we want to change the `root` `level` to `WARNING`, then we must use the following code snipet:\n",
    "\n",
    "`logging.root.setLevel(logging.WARNING)`"
   ]
  },
  {
   "cell_type": "markdown",
   "metadata": {},
   "source": [
    "Generally, it is a better practice to create various logger objects to handle the logs (will be discussed later). However, setting some basic formatting, `format` and `datefmt`, to the `root` logger can be beneficial, since logger objects can always fallback to the `root` logger settings if certain configs were not specifically set for the logger objects."
   ]
  },
  {
   "cell_type": "markdown",
   "metadata": {},
   "source": [
    "## Logging Levels"
   ]
  },
  {
   "cell_type": "markdown",
   "metadata": {},
   "source": [
    "Logging encompasses **5** [logging levels](https://docs.python.org/3/library/logging.html#logging-levels), listed in ascending order of severity:\n",
    "1. `debug`\n",
    "2. `info`\n",
    "3. `warning`\n",
    "4. `error`\n",
    "5. `critical`\n",
    "\n",
    "We can add to those `exception` which logs a message with level `error` but with `Exception` info is added to the logging message.\n",
    "\n",
    "The log messages are called likeso,"
   ]
  },
  {
   "cell_type": "code",
   "execution_count": 4,
   "metadata": {},
   "outputs": [],
   "source": [
    "logging.debug('This is a debug message')\n",
    "logging.info('This is an info message')\n",
    "logging.warning('This is a warning message')\n",
    "logging.error('This is an error message')\n",
    "logging.critical('This is a critical message')\n",
    "logging.exception('This is an exception message')"
   ]
  },
  {
   "cell_type": "markdown",
   "metadata": {},
   "source": [
    "To highlight the difference between `error` and `exception`, we will log the message of a `ZeroDivisionError` using both methods."
   ]
  },
  {
   "cell_type": "code",
   "execution_count": 3,
   "metadata": {},
   "outputs": [],
   "source": [
    "try: 1/0\n",
    "except ZeroDivisionError:\n",
    "    logging.error(ZeroDivisionError.__name__)\n",
    "    logging.exception(ZeroDivisionError.__name__)"
   ]
  },
  {
   "cell_type": "markdown",
   "metadata": {},
   "source": [
    "The log file shows the following:\n",
    "\n",
    "![`error` vs `exception`](./images/logging-error-vs-exception.png)\n",
    "\n",
    "We remark that `exception` logged the `ZeroDivisionError` traceback along with the `message`, while `error` only logged the `message`.\n"
   ]
  },
  {
   "cell_type": "markdown",
   "metadata": {},
   "source": [
    "It is important to note that when setting the logging level, the levels should be set using **capital** letters, like the code cell below.\n",
    "\n",
    "For more infor refer to the [documentation](https://docs.python.org/3/library/logging.html#logging-levels)."
   ]
  },
  {
   "cell_type": "code",
   "execution_count": null,
   "metadata": {},
   "outputs": [],
   "source": [
    "logging.root.setLevel(logging.NOTSET)\n",
    "logging.root.setLevel(logging.DEBUG)\n",
    "logging.root.setLevel(logging.INFO)\n",
    "logging.root.setLevel(logging.WARNING)\n",
    "logging.root.setLevel(logging.ERROR)\n",
    "logging.root.setLevel(logging.CRITICAL)"
   ]
  },
  {
   "cell_type": "markdown",
   "metadata": {},
   "source": [
    "## Logger Objects"
   ]
  }
 ],
 "metadata": {
  "kernelspec": {
   "display_name": "Python 3",
   "language": "python",
   "name": "python3"
  },
  "language_info": {
   "codemirror_mode": {
    "name": "ipython",
    "version": 3
   },
   "file_extension": ".py",
   "mimetype": "text/x-python",
   "name": "python",
   "nbconvert_exporter": "python",
   "pygments_lexer": "ipython3",
   "version": "3.11.4"
  }
 },
 "nbformat": 4,
 "nbformat_minor": 2
}
